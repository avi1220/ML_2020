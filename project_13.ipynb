{
 "cells": [
  {
   "cell_type": "code",
   "execution_count": 1,
   "metadata": {},
   "outputs": [],
   "source": [
    "import pandas as pd\n",
    "import numpy as np\n",
    "from matplotlib import pyplot as plt\n",
    "import seaborn as sns\n",
    "from sklearn.preprocessing import LabelEncoder\n",
    "from sklearn.model_selection import train_test_split,cross_val_score\n",
    "from sklearn.metrics import mean_absolute_error\n",
    "from sklearn.metrics import mean_squared_error\n",
    "from sklearn.metrics import r2_score\n",
    "from sklearn.linear_model import LinearRegression,Lasso,Ridge,ElasticNet\n",
    "from sklearn import metrics\n",
    "from sklearn.tree import DecisionTreeRegressor\n",
    "from sklearn.neighbors import KNeighborsRegressor\n",
    "from sklearn.ensemble import RandomForestRegressor,AdaBoostRegressor,GradientBoostingRegressor\n",
    "import warnings\n",
    "warnings.filterwarnings('ignore')"
   ]
  },
  {
   "cell_type": "code",
   "execution_count": 2,
   "metadata": {},
   "outputs": [
    {
     "data": {
      "text/html": [
       "<div>\n",
       "<style scoped>\n",
       "    .dataframe tbody tr th:only-of-type {\n",
       "        vertical-align: middle;\n",
       "    }\n",
       "\n",
       "    .dataframe tbody tr th {\n",
       "        vertical-align: top;\n",
       "    }\n",
       "\n",
       "    .dataframe thead th {\n",
       "        text-align: right;\n",
       "    }\n",
       "</style>\n",
       "<table border=\"1\" class=\"dataframe\">\n",
       "  <thead>\n",
       "    <tr style=\"text-align: right;\">\n",
       "      <th></th>\n",
       "      <th>Qualification</th>\n",
       "      <th>Experience</th>\n",
       "      <th>Rating</th>\n",
       "      <th>Place</th>\n",
       "      <th>Profile</th>\n",
       "      <th>Miscellaneous_Info</th>\n",
       "      <th>Fees</th>\n",
       "    </tr>\n",
       "  </thead>\n",
       "  <tbody>\n",
       "    <tr>\n",
       "      <td>0</td>\n",
       "      <td>BHMS, MD - Homeopathy</td>\n",
       "      <td>24 years experience</td>\n",
       "      <td>100%</td>\n",
       "      <td>Kakkanad, Ernakulam</td>\n",
       "      <td>Homeopath</td>\n",
       "      <td>100% 16 Feedback Kakkanad, Ernakulam</td>\n",
       "      <td>100</td>\n",
       "    </tr>\n",
       "    <tr>\n",
       "      <td>1</td>\n",
       "      <td>BAMS, MD - Ayurveda Medicine</td>\n",
       "      <td>12 years experience</td>\n",
       "      <td>98%</td>\n",
       "      <td>Whitefield, Bangalore</td>\n",
       "      <td>Ayurveda</td>\n",
       "      <td>98% 76 Feedback Whitefield, Bangalore</td>\n",
       "      <td>350</td>\n",
       "    </tr>\n",
       "    <tr>\n",
       "      <td>2</td>\n",
       "      <td>MBBS, MS - Otorhinolaryngology</td>\n",
       "      <td>9 years experience</td>\n",
       "      <td>NaN</td>\n",
       "      <td>Mathikere - BEL, Bangalore</td>\n",
       "      <td>ENT Specialist</td>\n",
       "      <td>NaN</td>\n",
       "      <td>300</td>\n",
       "    </tr>\n",
       "    <tr>\n",
       "      <td>3</td>\n",
       "      <td>BSc - Zoology, BAMS</td>\n",
       "      <td>12 years experience</td>\n",
       "      <td>NaN</td>\n",
       "      <td>Bannerghatta Road, Bangalore</td>\n",
       "      <td>Ayurveda</td>\n",
       "      <td>Bannerghatta Road, Bangalore ₹250 Available on...</td>\n",
       "      <td>250</td>\n",
       "    </tr>\n",
       "    <tr>\n",
       "      <td>4</td>\n",
       "      <td>BAMS</td>\n",
       "      <td>20 years experience</td>\n",
       "      <td>100%</td>\n",
       "      <td>Keelkattalai, Chennai</td>\n",
       "      <td>Ayurveda</td>\n",
       "      <td>100% 4 Feedback Keelkattalai, Chennai</td>\n",
       "      <td>250</td>\n",
       "    </tr>\n",
       "    <tr>\n",
       "      <td>5</td>\n",
       "      <td>BAMS</td>\n",
       "      <td>8 years experience</td>\n",
       "      <td>NaN</td>\n",
       "      <td>Porur, Chennai</td>\n",
       "      <td>Ayurveda</td>\n",
       "      <td>NaN</td>\n",
       "      <td>100</td>\n",
       "    </tr>\n",
       "    <tr>\n",
       "      <td>6</td>\n",
       "      <td>BHMS</td>\n",
       "      <td>42 years experience</td>\n",
       "      <td>NaN</td>\n",
       "      <td>Karol Bagh, Delhi</td>\n",
       "      <td>Homeopath</td>\n",
       "      <td>NaN</td>\n",
       "      <td>200</td>\n",
       "    </tr>\n",
       "    <tr>\n",
       "      <td>7</td>\n",
       "      <td>BDS</td>\n",
       "      <td>10 years experience</td>\n",
       "      <td>99%</td>\n",
       "      <td>Arekere, Bangalore</td>\n",
       "      <td>Dentist</td>\n",
       "      <td>Dental Fillings Crowns and Bridges Fixing Impa...</td>\n",
       "      <td>200</td>\n",
       "    </tr>\n",
       "    <tr>\n",
       "      <td>8</td>\n",
       "      <td>MBBS, MD - General Medicine</td>\n",
       "      <td>14 years experience</td>\n",
       "      <td>NaN</td>\n",
       "      <td>Old City, Hyderabad</td>\n",
       "      <td>General Medicine</td>\n",
       "      <td>NaN</td>\n",
       "      <td>100</td>\n",
       "    </tr>\n",
       "    <tr>\n",
       "      <td>9</td>\n",
       "      <td>BSc, BDS</td>\n",
       "      <td>23 years experience</td>\n",
       "      <td>NaN</td>\n",
       "      <td>Athani, Ernakulam</td>\n",
       "      <td>Dentist</td>\n",
       "      <td>NaN</td>\n",
       "      <td>100</td>\n",
       "    </tr>\n",
       "  </tbody>\n",
       "</table>\n",
       "</div>"
      ],
      "text/plain": [
       "                    Qualification           Experience Rating  \\\n",
       "0           BHMS, MD - Homeopathy  24 years experience   100%   \n",
       "1    BAMS, MD - Ayurveda Medicine  12 years experience    98%   \n",
       "2  MBBS, MS - Otorhinolaryngology   9 years experience    NaN   \n",
       "3             BSc - Zoology, BAMS  12 years experience    NaN   \n",
       "4                            BAMS  20 years experience   100%   \n",
       "5                            BAMS   8 years experience    NaN   \n",
       "6                            BHMS  42 years experience    NaN   \n",
       "7                             BDS  10 years experience    99%   \n",
       "8     MBBS, MD - General Medicine  14 years experience    NaN   \n",
       "9                        BSc, BDS  23 years experience    NaN   \n",
       "\n",
       "                          Place           Profile  \\\n",
       "0           Kakkanad, Ernakulam         Homeopath   \n",
       "1         Whitefield, Bangalore          Ayurveda   \n",
       "2    Mathikere - BEL, Bangalore    ENT Specialist   \n",
       "3  Bannerghatta Road, Bangalore          Ayurveda   \n",
       "4         Keelkattalai, Chennai          Ayurveda   \n",
       "5                Porur, Chennai          Ayurveda   \n",
       "6             Karol Bagh, Delhi         Homeopath   \n",
       "7            Arekere, Bangalore           Dentist   \n",
       "8           Old City, Hyderabad  General Medicine   \n",
       "9             Athani, Ernakulam           Dentist   \n",
       "\n",
       "                                  Miscellaneous_Info  Fees  \n",
       "0               100% 16 Feedback Kakkanad, Ernakulam   100  \n",
       "1              98% 76 Feedback Whitefield, Bangalore   350  \n",
       "2                                                NaN   300  \n",
       "3  Bannerghatta Road, Bangalore ₹250 Available on...   250  \n",
       "4              100% 4 Feedback Keelkattalai, Chennai   250  \n",
       "5                                                NaN   100  \n",
       "6                                                NaN   200  \n",
       "7  Dental Fillings Crowns and Bridges Fixing Impa...   200  \n",
       "8                                                NaN   100  \n",
       "9                                                NaN   100  "
      ]
     },
     "execution_count": 2,
     "metadata": {},
     "output_type": "execute_result"
    }
   ],
   "source": [
    "dtrain=pd.read_excel(\"doc_Train.xlsx\")\n",
    "dtrain.head(10)"
   ]
  },
  {
   "cell_type": "code",
   "execution_count": 3,
   "metadata": {},
   "outputs": [
    {
     "data": {
      "text/plain": [
       "(5961, 7)"
      ]
     },
     "execution_count": 3,
     "metadata": {},
     "output_type": "execute_result"
    }
   ],
   "source": [
    "dtrain.shape"
   ]
  },
  {
   "cell_type": "code",
   "execution_count": 4,
   "metadata": {},
   "outputs": [
    {
     "data": {
      "text/plain": [
       "Qualification         object\n",
       "Experience            object\n",
       "Rating                object\n",
       "Place                 object\n",
       "Profile               object\n",
       "Miscellaneous_Info    object\n",
       "Fees                   int64\n",
       "dtype: object"
      ]
     },
     "execution_count": 4,
     "metadata": {},
     "output_type": "execute_result"
    }
   ],
   "source": [
    "dtrain.dtypes"
   ]
  },
  {
   "cell_type": "code",
   "execution_count": 5,
   "metadata": {},
   "outputs": [
    {
     "data": {
      "text/plain": [
       "Qualification            0\n",
       "Experience               0\n",
       "Rating                3302\n",
       "Place                   25\n",
       "Profile                  0\n",
       "Miscellaneous_Info    2620\n",
       "Fees                     0\n",
       "dtype: int64"
      ]
     },
     "execution_count": 5,
     "metadata": {},
     "output_type": "execute_result"
    }
   ],
   "source": [
    "dtrain.isnull().sum()"
   ]
  },
  {
   "cell_type": "code",
   "execution_count": 6,
   "metadata": {},
   "outputs": [
    {
     "data": {
      "text/html": [
       "<div>\n",
       "<style scoped>\n",
       "    .dataframe tbody tr th:only-of-type {\n",
       "        vertical-align: middle;\n",
       "    }\n",
       "\n",
       "    .dataframe tbody tr th {\n",
       "        vertical-align: top;\n",
       "    }\n",
       "\n",
       "    .dataframe thead th {\n",
       "        text-align: right;\n",
       "    }\n",
       "</style>\n",
       "<table border=\"1\" class=\"dataframe\">\n",
       "  <thead>\n",
       "    <tr style=\"text-align: right;\">\n",
       "      <th></th>\n",
       "      <th>Qualification</th>\n",
       "      <th>Experience</th>\n",
       "      <th>Rating</th>\n",
       "      <th>Place</th>\n",
       "      <th>Profile</th>\n",
       "      <th>Miscellaneous_Info</th>\n",
       "      <th>Fees</th>\n",
       "    </tr>\n",
       "  </thead>\n",
       "  <tbody>\n",
       "    <tr>\n",
       "      <td>5956</td>\n",
       "      <td>MBBS, MS - ENT</td>\n",
       "      <td>19 years experience</td>\n",
       "      <td>98%</td>\n",
       "      <td>Basavanagudi, Bangalore</td>\n",
       "      <td>ENT Specialist</td>\n",
       "      <td>98% 45 Feedback Basavanagudi, Bangalore</td>\n",
       "      <td>300</td>\n",
       "    </tr>\n",
       "    <tr>\n",
       "      <td>5957</td>\n",
       "      <td>MBBS</td>\n",
       "      <td>33 years experience</td>\n",
       "      <td>NaN</td>\n",
       "      <td>Nungambakkam, Chennai</td>\n",
       "      <td>General Medicine</td>\n",
       "      <td>NaN</td>\n",
       "      <td>100</td>\n",
       "    </tr>\n",
       "    <tr>\n",
       "      <td>5958</td>\n",
       "      <td>MBBS</td>\n",
       "      <td>41 years experience</td>\n",
       "      <td>97%</td>\n",
       "      <td>Greater Kailash Part 2, Delhi</td>\n",
       "      <td>General Medicine</td>\n",
       "      <td>97% 11 Feedback Greater Kailash Part 2, Delhi</td>\n",
       "      <td>600</td>\n",
       "    </tr>\n",
       "    <tr>\n",
       "      <td>5959</td>\n",
       "      <td>MBBS, MD - General Medicine</td>\n",
       "      <td>15 years experience</td>\n",
       "      <td>90%</td>\n",
       "      <td>Vileparle West, Mumbai</td>\n",
       "      <td>General Medicine</td>\n",
       "      <td>General Medical Consultation Viral Fever Treat...</td>\n",
       "      <td>100</td>\n",
       "    </tr>\n",
       "    <tr>\n",
       "      <td>5960</td>\n",
       "      <td>BDS, MDS - Orthodontics</td>\n",
       "      <td>17 years experience</td>\n",
       "      <td>100%</td>\n",
       "      <td>Pitampura, Delhi</td>\n",
       "      <td>Dentist</td>\n",
       "      <td>Acrylic Partial Denture Crowns and Bridges Fix...</td>\n",
       "      <td>200</td>\n",
       "    </tr>\n",
       "  </tbody>\n",
       "</table>\n",
       "</div>"
      ],
      "text/plain": [
       "                    Qualification           Experience Rating  \\\n",
       "5956               MBBS, MS - ENT  19 years experience    98%   \n",
       "5957                         MBBS  33 years experience    NaN   \n",
       "5958                         MBBS  41 years experience    97%   \n",
       "5959  MBBS, MD - General Medicine  15 years experience    90%   \n",
       "5960      BDS, MDS - Orthodontics  17 years experience   100%   \n",
       "\n",
       "                              Place           Profile  \\\n",
       "5956        Basavanagudi, Bangalore    ENT Specialist   \n",
       "5957          Nungambakkam, Chennai  General Medicine   \n",
       "5958  Greater Kailash Part 2, Delhi  General Medicine   \n",
       "5959         Vileparle West, Mumbai  General Medicine   \n",
       "5960               Pitampura, Delhi           Dentist   \n",
       "\n",
       "                                     Miscellaneous_Info  Fees  \n",
       "5956            98% 45 Feedback Basavanagudi, Bangalore   300  \n",
       "5957                                                NaN   100  \n",
       "5958      97% 11 Feedback Greater Kailash Part 2, Delhi   600  \n",
       "5959  General Medical Consultation Viral Fever Treat...   100  \n",
       "5960  Acrylic Partial Denture Crowns and Bridges Fix...   200  "
      ]
     },
     "execution_count": 6,
     "metadata": {},
     "output_type": "execute_result"
    }
   ],
   "source": [
    "dtrain.tail()"
   ]
  },
  {
   "cell_type": "code",
   "execution_count": 8,
   "metadata": {},
   "outputs": [
    {
     "data": {
      "text/plain": [
       "<matplotlib.axes._subplots.AxesSubplot at 0x1a484c4af88>"
      ]
     },
     "execution_count": 8,
     "metadata": {},
     "output_type": "execute_result"
    },
    {
     "data": {
      "image/png": "[encoded data removed]",
      "text/plain": [
       "<Figure size 1296x720 with 2 Axes>"
      ]
     },
     "metadata": {},
     "output_type": "display_data"
    }
   ],
   "source": [
    "sns.heatmap(dtrain.isnull())"
   ]
  },
  {
   "cell_type": "code",
   "execution_count": 7,
   "metadata": {},
   "outputs": [
    {
     "data": {
      "text/plain": [
       "<function matplotlib.pyplot.show(*args, **kw)>"
      ]
     },
     "execution_count": 7,
     "metadata": {},
     "output_type": "execute_result"
    },
    {
     "data": {
      "image/png": "[encoded data removed]",
      "text/plain": [
       "<Figure size 1296x720 with 1 Axes>"
      ]
     },
     "metadata": {},
     "output_type": "display_data"
    }
   ],
   "source": [
    "sns.set(rc={\"figure.figsize\":(18,10)})\n",
    "sns.lineplot(x=\"Profile\",y=\"Fees\",data=dtrain)\n",
    "plt.show"
   ]
  },
  {
   "cell_type": "code",
   "execution_count": 9,
   "metadata": {},
   "outputs": [
    {
     "data": {
      "text/plain": [
       "<matplotlib.axes._subplots.AxesSubplot at 0x1a4853437c8>"
      ]
     },
     "execution_count": 9,
     "metadata": {},
     "output_type": "execute_result"
    },
    {
     "data": {
      "image/png": "[encoded data removed]",
      "text/plain": [
       "<Figure size 1296x720 with 1 Axes>"
      ]
     },
     "metadata": {},
     "output_type": "display_data"
    }
   ],
   "source": [
    "sns.distplot(dtrain['Fees'])"
   ]
  },
  {
   "cell_type": "code",
   "execution_count": 10,
   "metadata": {},
   "outputs": [
    {
     "data": {
      "text/html": [
       "<div>\n",
       "<style scoped>\n",
       "    .dataframe tbody tr th:only-of-type {\n",
       "        vertical-align: middle;\n",
       "    }\n",
       "\n",
       "    .dataframe tbody tr th {\n",
       "        vertical-align: top;\n",
       "    }\n",
       "\n",
       "    .dataframe thead th {\n",
       "        text-align: right;\n",
       "    }\n",
       "</style>\n",
       "<table border=\"1\" class=\"dataframe\">\n",
       "  <thead>\n",
       "    <tr style=\"text-align: right;\">\n",
       "      <th></th>\n",
       "      <th>Qualification</th>\n",
       "      <th>Experience</th>\n",
       "      <th>Rating</th>\n",
       "      <th>Place</th>\n",
       "      <th>Profile</th>\n",
       "      <th>Miscellaneous_Info</th>\n",
       "    </tr>\n",
       "  </thead>\n",
       "  <tbody>\n",
       "    <tr>\n",
       "      <td>0</td>\n",
       "      <td>MBBS</td>\n",
       "      <td>35 years experience</td>\n",
       "      <td>NaN</td>\n",
       "      <td>Ghatkopar East, Mumbai</td>\n",
       "      <td>General Medicine</td>\n",
       "      <td>NaN</td>\n",
       "    </tr>\n",
       "    <tr>\n",
       "      <td>1</td>\n",
       "      <td>MBBS, Diploma in Otorhinolaryngology (DLO)</td>\n",
       "      <td>31 years experience</td>\n",
       "      <td>NaN</td>\n",
       "      <td>West Marredpally, Hyderabad</td>\n",
       "      <td>ENT Specialist</td>\n",
       "      <td>NaN</td>\n",
       "    </tr>\n",
       "    <tr>\n",
       "      <td>2</td>\n",
       "      <td>MBBS, DDVL</td>\n",
       "      <td>40 years experience</td>\n",
       "      <td>70%</td>\n",
       "      <td>KK Nagar, Chennai</td>\n",
       "      <td>Dermatologists</td>\n",
       "      <td>70% 4 Feedback KK Nagar, Chennai</td>\n",
       "    </tr>\n",
       "    <tr>\n",
       "      <td>3</td>\n",
       "      <td>BAMS</td>\n",
       "      <td>0 years experience</td>\n",
       "      <td>NaN</td>\n",
       "      <td>New Ashok Nagar, Delhi</td>\n",
       "      <td>Ayurveda</td>\n",
       "      <td>NaN</td>\n",
       "    </tr>\n",
       "    <tr>\n",
       "      <td>4</td>\n",
       "      <td>BDS, MDS - Conservative Dentistry &amp; Endodontics</td>\n",
       "      <td>16 years experience</td>\n",
       "      <td>100%</td>\n",
       "      <td>Kanakpura Road, Bangalore</td>\n",
       "      <td>Dentist</td>\n",
       "      <td>General Dentistry Conservative Dentistry Cosme...</td>\n",
       "    </tr>\n",
       "  </tbody>\n",
       "</table>\n",
       "</div>"
      ],
      "text/plain": [
       "                                     Qualification           Experience  \\\n",
       "0                                             MBBS  35 years experience   \n",
       "1       MBBS, Diploma in Otorhinolaryngology (DLO)  31 years experience   \n",
       "2                                       MBBS, DDVL  40 years experience   \n",
       "3                                             BAMS   0 years experience   \n",
       "4  BDS, MDS - Conservative Dentistry & Endodontics  16 years experience   \n",
       "\n",
       "  Rating                        Place           Profile  \\\n",
       "0    NaN       Ghatkopar East, Mumbai  General Medicine   \n",
       "1    NaN  West Marredpally, Hyderabad    ENT Specialist   \n",
       "2    70%            KK Nagar, Chennai    Dermatologists   \n",
       "3    NaN       New Ashok Nagar, Delhi          Ayurveda   \n",
       "4   100%    Kanakpura Road, Bangalore           Dentist   \n",
       "\n",
       "                                  Miscellaneous_Info  \n",
       "0                                                NaN  \n",
       "1                                                NaN  \n",
       "2                   70% 4 Feedback KK Nagar, Chennai  \n",
       "3                                                NaN  \n",
       "4  General Dentistry Conservative Dentistry Cosme...  "
      ]
     },
     "execution_count": 10,
     "metadata": {},
     "output_type": "execute_result"
    }
   ],
   "source": [
    "dtest=pd.read_excel(\"doc_Test.xlsx\")\n",
    "dtest.head()"
   ]
  },
  {
   "cell_type": "code",
   "execution_count": 11,
   "metadata": {},
   "outputs": [
    {
     "data": {
      "text/plain": [
       "Qualification            0\n",
       "Experience               0\n",
       "Rating                1090\n",
       "Place                    6\n",
       "Profile                  0\n",
       "Miscellaneous_Info     834\n",
       "dtype: int64"
      ]
     },
     "execution_count": 11,
     "metadata": {},
     "output_type": "execute_result"
    }
   ],
   "source": [
    "dtest.isnull().sum()"
   ]
  },
  {
   "cell_type": "code",
   "execution_count": 12,
   "metadata": {},
   "outputs": [
    {
     "data": {
      "text/html": [
       "<div>\n",
       "<style scoped>\n",
       "    .dataframe tbody tr th:only-of-type {\n",
       "        vertical-align: middle;\n",
       "    }\n",
       "\n",
       "    .dataframe tbody tr th {\n",
       "        vertical-align: top;\n",
       "    }\n",
       "\n",
       "    .dataframe thead th {\n",
       "        text-align: right;\n",
       "    }\n",
       "</style>\n",
       "<table border=\"1\" class=\"dataframe\">\n",
       "  <thead>\n",
       "    <tr style=\"text-align: right;\">\n",
       "      <th></th>\n",
       "      <th>Experience</th>\n",
       "      <th>Fees</th>\n",
       "      <th>Miscellaneous_Info</th>\n",
       "      <th>Place</th>\n",
       "      <th>Profile</th>\n",
       "      <th>Qualification</th>\n",
       "      <th>Rating</th>\n",
       "    </tr>\n",
       "  </thead>\n",
       "  <tbody>\n",
       "    <tr>\n",
       "      <td>0</td>\n",
       "      <td>24 years experience</td>\n",
       "      <td>100.0</td>\n",
       "      <td>100% 16 Feedback Kakkanad, Ernakulam</td>\n",
       "      <td>Kakkanad, Ernakulam</td>\n",
       "      <td>Homeopath</td>\n",
       "      <td>BHMS, MD - Homeopathy</td>\n",
       "      <td>100%</td>\n",
       "    </tr>\n",
       "    <tr>\n",
       "      <td>1</td>\n",
       "      <td>12 years experience</td>\n",
       "      <td>350.0</td>\n",
       "      <td>98% 76 Feedback Whitefield, Bangalore</td>\n",
       "      <td>Whitefield, Bangalore</td>\n",
       "      <td>Ayurveda</td>\n",
       "      <td>BAMS, MD - Ayurveda Medicine</td>\n",
       "      <td>98%</td>\n",
       "    </tr>\n",
       "    <tr>\n",
       "      <td>2</td>\n",
       "      <td>9 years experience</td>\n",
       "      <td>300.0</td>\n",
       "      <td>NaN</td>\n",
       "      <td>Mathikere - BEL, Bangalore</td>\n",
       "      <td>ENT Specialist</td>\n",
       "      <td>MBBS, MS - Otorhinolaryngology</td>\n",
       "      <td>NaN</td>\n",
       "    </tr>\n",
       "    <tr>\n",
       "      <td>3</td>\n",
       "      <td>12 years experience</td>\n",
       "      <td>250.0</td>\n",
       "      <td>Bannerghatta Road, Bangalore ₹250 Available on...</td>\n",
       "      <td>Bannerghatta Road, Bangalore</td>\n",
       "      <td>Ayurveda</td>\n",
       "      <td>BSc - Zoology, BAMS</td>\n",
       "      <td>NaN</td>\n",
       "    </tr>\n",
       "    <tr>\n",
       "      <td>4</td>\n",
       "      <td>20 years experience</td>\n",
       "      <td>250.0</td>\n",
       "      <td>100% 4 Feedback Keelkattalai, Chennai</td>\n",
       "      <td>Keelkattalai, Chennai</td>\n",
       "      <td>Ayurveda</td>\n",
       "      <td>BAMS</td>\n",
       "      <td>100%</td>\n",
       "    </tr>\n",
       "  </tbody>\n",
       "</table>\n",
       "</div>"
      ],
      "text/plain": [
       "            Experience   Fees  \\\n",
       "0  24 years experience  100.0   \n",
       "1  12 years experience  350.0   \n",
       "2   9 years experience  300.0   \n",
       "3  12 years experience  250.0   \n",
       "4  20 years experience  250.0   \n",
       "\n",
       "                                  Miscellaneous_Info  \\\n",
       "0               100% 16 Feedback Kakkanad, Ernakulam   \n",
       "1              98% 76 Feedback Whitefield, Bangalore   \n",
       "2                                                NaN   \n",
       "3  Bannerghatta Road, Bangalore ₹250 Available on...   \n",
       "4              100% 4 Feedback Keelkattalai, Chennai   \n",
       "\n",
       "                          Place         Profile  \\\n",
       "0           Kakkanad, Ernakulam       Homeopath   \n",
       "1         Whitefield, Bangalore        Ayurveda   \n",
       "2    Mathikere - BEL, Bangalore  ENT Specialist   \n",
       "3  Bannerghatta Road, Bangalore        Ayurveda   \n",
       "4         Keelkattalai, Chennai        Ayurveda   \n",
       "\n",
       "                    Qualification Rating  \n",
       "0           BHMS, MD - Homeopathy   100%  \n",
       "1    BAMS, MD - Ayurveda Medicine    98%  \n",
       "2  MBBS, MS - Otorhinolaryngology    NaN  \n",
       "3             BSc - Zoology, BAMS    NaN  \n",
       "4                            BAMS   100%  "
      ]
     },
     "execution_count": 12,
     "metadata": {},
     "output_type": "execute_result"
    }
   ],
   "source": [
    "doc=pd.concat([dtrain,dtest])\n",
    "doc.head()"
   ]
  },
  {
   "cell_type": "code",
   "execution_count": 13,
   "metadata": {},
   "outputs": [
    {
     "data": {
      "text/plain": [
       "(7948, 7)"
      ]
     },
     "execution_count": 13,
     "metadata": {},
     "output_type": "execute_result"
    }
   ],
   "source": [
    "doc.shape"
   ]
  },
  {
   "cell_type": "code",
   "execution_count": 14,
   "metadata": {},
   "outputs": [
    {
     "name": "stdout",
     "output_type": "stream",
     "text": [
      "<class 'pandas.core.frame.DataFrame'>\n",
      "Int64Index: 7948 entries, 0 to 1986\n",
      "Data columns (total 7 columns):\n",
      "Experience            7948 non-null object\n",
      "Fees                  5961 non-null float64\n",
      "Miscellaneous_Info    4494 non-null object\n",
      "Place                 7917 non-null object\n",
      "Profile               7948 non-null object\n",
      "Qualification         7948 non-null object\n",
      "Rating                3556 non-null object\n",
      "dtypes: float64(1), object(6)\n",
      "memory usage: 496.8+ KB\n"
     ]
    }
   ],
   "source": [
    "doc.info()"
   ]
  },
  {
   "cell_type": "code",
   "execution_count": 15,
   "metadata": {},
   "outputs": [],
   "source": [
    "#EXPERIENCE\n",
    "\n",
    "doc['Experience']=doc['Experience'].str.split()\n",
    "doc['Experience']=doc['Experience'].str[0].astype(\"int\")"
   ]
  },
  {
   "cell_type": "code",
   "execution_count": 16,
   "metadata": {},
   "outputs": [
    {
     "data": {
      "text/plain": [
       "0                    100% 16 Feedback Kakkanad, Ernakulam\n",
       "1                   98% 76 Feedback Whitefield, Bangalore\n",
       "2                                                     NaN\n",
       "3       Bannerghatta Road, Bangalore ₹250 Available on...\n",
       "4                   100% 4 Feedback Keelkattalai, Chennai\n",
       "                              ...                        \n",
       "1982                                                  NaN\n",
       "1983                                                  NaN\n",
       "1984                                                  NaN\n",
       "1985    RCT - Root Canal Treatment Root Canal Treatmen...\n",
       "1986                1 Feedback Pallikaranai, Chennai ₹500\n",
       "Name: Miscellaneous_Info, Length: 7948, dtype: object"
      ]
     },
     "execution_count": 16,
     "metadata": {},
     "output_type": "execute_result"
    }
   ],
   "source": [
    "#Miscellaneous_Info\n",
    "\n",
    "doc['Miscellaneous_Info']"
   ]
  },
  {
   "cell_type": "code",
   "execution_count": 17,
   "metadata": {},
   "outputs": [],
   "source": [
    "#PLACE\n",
    "doc['Place'].fillna(\"Unknown,Unknown\",inplace=True)\n",
    "doc['Place']=doc['Place'].str.split(\",\")\n",
    "doc['City']=doc['Place'].str[-1]\n",
    "doc['Place']=doc['Place'].str[0]"
   ]
  },
  {
   "cell_type": "code",
   "execution_count": 18,
   "metadata": {},
   "outputs": [
    {
     "data": {
      "text/plain": [
       "Dentist             1838\n",
       "General Medicine    1617\n",
       "Dermatologists      1373\n",
       "Homeopath           1120\n",
       "Ayurveda            1037\n",
       "ENT Specialist       963\n",
       "Name: Profile, dtype: int64"
      ]
     },
     "execution_count": 18,
     "metadata": {},
     "output_type": "execute_result"
    }
   ],
   "source": [
    "#PROFILE\n",
    "doc['Profile'].value_counts()"
   ]
  },
  {
   "cell_type": "code",
   "execution_count": 19,
   "metadata": {},
   "outputs": [
    {
     "data": {
      "text/plain": [
       "BDS                                                                                                                     632\n",
       "BHMS                                                                                                                    627\n",
       "BAMS                                                                                                                    624\n",
       "MBBS                                                                                                                    441\n",
       "MBBS, MS - ENT                                                                                                          280\n",
       "                                                                                                                       ... \n",
       "MBBS, Post Graduate Diploma in Diabetology (PGDD), Certificate Course in Evidence Based Diabetes Management (CCEBDM)      1\n",
       "B.Sc, MBBS, Diploma in Otorhinolaryngology (DLO)                                                                          1\n",
       "BHMS, BSc - Zoology                                                                                                       1\n",
       "MBBS, DDVL, Fellowship in Cosmetology and Dermatosurgery, Fellowship in Aesthetic Medicine                                1\n",
       "MBBS, MD - General Medicine, Post Graduate Diploma in Diabetology (PGDD)(Madras Medical College)                          1\n",
       "Name: Qualification, Length: 1801, dtype: int64"
      ]
     },
     "execution_count": 19,
     "metadata": {},
     "output_type": "execute_result"
    }
   ],
   "source": [
    "doc['Qualification'].value_counts()"
   ]
  },
  {
   "cell_type": "code",
   "execution_count": 20,
   "metadata": {},
   "outputs": [],
   "source": [
    "doc['Qua1']=doc['Qualification'].str.split(',').str[0]\n",
    "\n",
    "def rep(x):\n",
    "    if x=='0':\n",
    "        x=0\n",
    "    else:\n",
    "        x=1\n",
    "        return x\n",
    "    \n",
    "doc['Qua1']= doc['Qua1'].apply(lambda x:rep(x))\n",
    "doc['Qua2']=doc['Qualification'].str.split(',').str[1]\n",
    "doc['Qua2'].fillna('0',inplace=True)\n",
    "doc['Qua2']= doc['Qua2'].apply(lambda x:rep(x))\n",
    "doc['Qua2'].fillna(0,inplace=True)\n",
    "doc['Qua3']=doc['Qualification'].str.split(',').str[2]\n",
    "doc['Qua3'].fillna('0',inplace=True)\n",
    "doc['Qua3']= doc['Qua3'].apply(lambda x:rep(x))\n",
    "doc['Qua3'].fillna(0,inplace=True)"
   ]
  },
  {
   "cell_type": "code",
   "execution_count": 21,
   "metadata": {},
   "outputs": [],
   "source": [
    "#RATING\n",
    "\n",
    "doc['Rating']=doc['Rating'].str.split('%').str[0]\n",
    "\n",
    "doc['Rating'].fillna('0',inplace=True)\n",
    "\n",
    "doc['Rating']=doc['Rating'].astype(int)"
   ]
  },
  {
   "cell_type": "code",
   "execution_count": 22,
   "metadata": {},
   "outputs": [],
   "source": [
    "doc.drop([\"Qualification\",\"Miscellaneous_Info\"],axis=1,inplace=True)"
   ]
  },
  {
   "cell_type": "code",
   "execution_count": 28,
   "metadata": {},
   "outputs": [
    {
     "data": {
      "text/plain": [
       "Experience       0\n",
       "Fees          1987\n",
       "Place            0\n",
       "Profile          0\n",
       "Rating           0\n",
       "City             0\n",
       "Qua1             0\n",
       "Qua2             0\n",
       "Qua3             0\n",
       "dtype: int64"
      ]
     },
     "execution_count": 28,
     "metadata": {},
     "output_type": "execute_result"
    }
   ],
   "source": [
    "doc.isnull().sum()"
   ]
  },
  {
   "cell_type": "code",
   "execution_count": 29,
   "metadata": {},
   "outputs": [
    {
     "data": {
      "text/plain": [
       "0       100.00000\n",
       "1       350.00000\n",
       "2       300.00000\n",
       "3       250.00000\n",
       "4       250.00000\n",
       "          ...    \n",
       "1982    307.94464\n",
       "1983    307.94464\n",
       "1984    307.94464\n",
       "1985    307.94464\n",
       "1986    307.94464\n",
       "Name: Fees, Length: 7948, dtype: float64"
      ]
     },
     "execution_count": 29,
     "metadata": {},
     "output_type": "execute_result"
    }
   ],
   "source": [
    "doc['Fees'].fillna(doc['Fees'].mean(),inplace=True)\n",
    "doc['Fees']"
   ]
  },
  {
   "cell_type": "code",
   "execution_count": 30,
   "metadata": {},
   "outputs": [],
   "source": [
    "doc['Fees']=(doc['Fees']-doc['Fees'].min())/(doc['Fees'].max()-doc['Fees'].min())"
   ]
  },
  {
   "cell_type": "code",
   "execution_count": 31,
   "metadata": {},
   "outputs": [
    {
     "data": {
      "text/plain": [
       "Index([], dtype='object')"
      ]
     },
     "execution_count": 31,
     "metadata": {},
     "output_type": "execute_result"
    }
   ],
   "source": [
    "cat=doc.select_dtypes(include=[np.object])\n",
    "cat.columns"
   ]
  },
  {
   "cell_type": "code",
   "execution_count": 32,
   "metadata": {},
   "outputs": [
    {
     "data": {
      "text/plain": [
       "Experience      int32\n",
       "Fees          float64\n",
       "Place           int32\n",
       "Profile         int32\n",
       "Rating          int32\n",
       "City            int32\n",
       "Qua1            int64\n",
       "Qua2          float64\n",
       "Qua3          float64\n",
       "dtype: object"
      ]
     },
     "execution_count": 32,
     "metadata": {},
     "output_type": "execute_result"
    }
   ],
   "source": [
    "from sklearn.preprocessing import LabelEncoder\n",
    "le=LabelEncoder()\n",
    "cat=['Place', 'Profile', 'City']\n",
    "for val in cat:\n",
    "    le=LabelEncoder()\n",
    "    doc[val]=le.fit_transform(doc[val].astype(\"str\"))\n",
    "doc.dtypes"
   ]
  },
  {
   "cell_type": "code",
   "execution_count": 33,
   "metadata": {},
   "outputs": [
    {
     "data": {
      "text/html": [
       "<div>\n",
       "<style scoped>\n",
       "    .dataframe tbody tr th:only-of-type {\n",
       "        vertical-align: middle;\n",
       "    }\n",
       "\n",
       "    .dataframe tbody tr th {\n",
       "        vertical-align: top;\n",
       "    }\n",
       "\n",
       "    .dataframe thead th {\n",
       "        text-align: right;\n",
       "    }\n",
       "</style>\n",
       "<table border=\"1\" class=\"dataframe\">\n",
       "  <thead>\n",
       "    <tr style=\"text-align: right;\">\n",
       "      <th></th>\n",
       "      <th>Experience</th>\n",
       "      <th>Fees</th>\n",
       "      <th>Place</th>\n",
       "      <th>Profile</th>\n",
       "      <th>Rating</th>\n",
       "      <th>City</th>\n",
       "      <th>Qua1</th>\n",
       "      <th>Qua2</th>\n",
       "      <th>Qua3</th>\n",
       "    </tr>\n",
       "  </thead>\n",
       "  <tbody>\n",
       "    <tr>\n",
       "      <td>0</td>\n",
       "      <td>24</td>\n",
       "      <td>0.100529</td>\n",
       "      <td>251</td>\n",
       "      <td>5</td>\n",
       "      <td>100</td>\n",
       "      <td>4</td>\n",
       "      <td>1</td>\n",
       "      <td>1.0</td>\n",
       "      <td>0.0</td>\n",
       "    </tr>\n",
       "    <tr>\n",
       "      <td>1</td>\n",
       "      <td>12</td>\n",
       "      <td>0.365079</td>\n",
       "      <td>919</td>\n",
       "      <td>0</td>\n",
       "      <td>98</td>\n",
       "      <td>0</td>\n",
       "      <td>1</td>\n",
       "      <td>1.0</td>\n",
       "      <td>0.0</td>\n",
       "    </tr>\n",
       "    <tr>\n",
       "      <td>2</td>\n",
       "      <td>9</td>\n",
       "      <td>0.312169</td>\n",
       "      <td>439</td>\n",
       "      <td>3</td>\n",
       "      <td>0</td>\n",
       "      <td>0</td>\n",
       "      <td>1</td>\n",
       "      <td>1.0</td>\n",
       "      <td>0.0</td>\n",
       "    </tr>\n",
       "    <tr>\n",
       "      <td>3</td>\n",
       "      <td>12</td>\n",
       "      <td>0.259259</td>\n",
       "      <td>712</td>\n",
       "      <td>0</td>\n",
       "      <td>0</td>\n",
       "      <td>0</td>\n",
       "      <td>1</td>\n",
       "      <td>1.0</td>\n",
       "      <td>0.0</td>\n",
       "    </tr>\n",
       "    <tr>\n",
       "      <td>4</td>\n",
       "      <td>20</td>\n",
       "      <td>0.259259</td>\n",
       "      <td>298</td>\n",
       "      <td>0</td>\n",
       "      <td>100</td>\n",
       "      <td>1</td>\n",
       "      <td>1</td>\n",
       "      <td>0.0</td>\n",
       "      <td>0.0</td>\n",
       "    </tr>\n",
       "  </tbody>\n",
       "</table>\n",
       "</div>"
      ],
      "text/plain": [
       "   Experience      Fees  Place  Profile  Rating  City  Qua1  Qua2  Qua3\n",
       "0          24  0.100529    251        5     100     4     1   1.0   0.0\n",
       "1          12  0.365079    919        0      98     0     1   1.0   0.0\n",
       "2           9  0.312169    439        3       0     0     1   1.0   0.0\n",
       "3          12  0.259259    712        0       0     0     1   1.0   0.0\n",
       "4          20  0.259259    298        0     100     1     1   0.0   0.0"
      ]
     },
     "execution_count": 33,
     "metadata": {},
     "output_type": "execute_result"
    }
   ],
   "source": [
    "doc.head()"
   ]
  },
  {
   "cell_type": "code",
   "execution_count": 35,
   "metadata": {},
   "outputs": [
    {
     "name": "stdout",
     "output_type": "stream",
     "text": [
      "(7948, 8)\n"
     ]
    }
   ],
   "source": [
    "X= doc.drop(['Fees'], axis = 1)\n",
    "print(X.shape)"
   ]
  },
  {
   "cell_type": "code",
   "execution_count": 36,
   "metadata": {},
   "outputs": [
    {
     "name": "stdout",
     "output_type": "stream",
     "text": [
      "(7948,)\n"
     ]
    }
   ],
   "source": [
    "y =doc['Fees'] \n",
    "print(y.shape)"
   ]
  },
  {
   "cell_type": "code",
   "execution_count": 37,
   "metadata": {},
   "outputs": [],
   "source": [
    "from sklearn.preprocessing import MinMaxScaler\n",
    "sc = MinMaxScaler()\n",
    "X= sc.fit_transform(X)"
   ]
  },
  {
   "cell_type": "code",
   "execution_count": 38,
   "metadata": {},
   "outputs": [],
   "source": [
    "X_train, X_test, y_train, y_test = train_test_split(X, y, test_size = 0.33, random_state= 52)"
   ]
  },
  {
   "cell_type": "code",
   "execution_count": 39,
   "metadata": {},
   "outputs": [],
   "source": [
    "lr=LinearRegression()\n",
    "la=Lasso()\n",
    "en=ElasticNet()\n",
    "ri=Ridge()\n",
    "kn=KNeighborsRegressor()\n",
    "dt=DecisionTreeRegressor(random_state=97)\n",
    "ab=AdaBoostRegressor(random_state=97)\n",
    "rf=RandomForestRegressor(random_state=97)\n",
    "gb=GradientBoostingRegressor(random_state=97)"
   ]
  },
  {
   "cell_type": "code",
   "execution_count": 40,
   "metadata": {},
   "outputs": [],
   "source": [
    "models=[]\n",
    "models.append((\"LinearRegression\",lr))\n",
    "models.append((\"Lasso\",la))\n",
    "models.append((\"ElasticNet\",en))\n",
    "models.append((\"Ridge\",ri))\n",
    "models.append((\"KNeighborsRegressor\",kn))\n",
    "models.append((\"DecisionTreeRegressor\",dt))\n",
    "models.append((\"AdaBoostRegressor\",ab))\n",
    "models.append((\"RandomForestRegressor\",rf))\n",
    "models.append((\"GradientBoostingRegressor\",gb))"
   ]
  },
  {
   "cell_type": "code",
   "execution_count": 50,
   "metadata": {
    "scrolled": false
   },
   "outputs": [
    {
     "name": "stdout",
     "output_type": "stream",
     "text": [
      "********************************* LinearRegression *********************************\n",
      "\n",
      " LinearRegression(copy_X=True, fit_intercept=True, n_jobs=None, normalize=False)\n",
      "R2_score =  0.06412021384849287\n",
      "Mean_Squared_Error = 0.02767742791314186\n",
      "RMSE=  0.16636534468795436\n",
      "Cross_Val_Score =  -1.9785942528914016e+29\n",
      "\n",
      "\n",
      "********************************* Lasso *********************************\n",
      "\n",
      " Lasso(alpha=1.0, copy_X=True, fit_intercept=True, max_iter=1000,\n",
      "      normalize=False, positive=False, precompute=False, random_state=None,\n",
      "      selection='cyclic', tol=0.0001, warm_start=False)\n",
      "R2_score =  -9.539181261453145e-05\n",
      "Mean_Squared_Error = 0.029576520962146257\n",
      "RMSE=  0.17197825723662355\n",
      "Cross_Val_Score =  -0.000991459416781093\n",
      "\n",
      "\n",
      "********************************* ElasticNet *********************************\n",
      "\n",
      " ElasticNet(alpha=1.0, copy_X=True, fit_intercept=True, l1_ratio=0.5,\n",
      "           max_iter=1000, normalize=False, positive=False, precompute=False,\n",
      "           random_state=None, selection='cyclic', tol=0.0001, warm_start=False)\n",
      "R2_score =  -9.539181261453145e-05\n",
      "Mean_Squared_Error = 0.029576520962146257\n",
      "RMSE=  0.17197825723662355\n",
      "Cross_Val_Score =  -0.000991459416781093\n",
      "\n",
      "\n",
      "********************************* Ridge *********************************\n",
      "\n",
      " Ridge(alpha=1.0, copy_X=True, fit_intercept=True, max_iter=None,\n",
      "      normalize=False, random_state=None, solver='auto', tol=0.001)\n",
      "R2_score =  0.06414010514011581\n",
      "Mean_Squared_Error = 0.027676839654053313\n",
      "RMSE=  0.16636357670491853\n",
      "Cross_Val_Score =  -1.9754302094235586e+29\n",
      "\n",
      "\n",
      "********************************* KNeighborsRegressor *********************************\n",
      "\n",
      " KNeighborsRegressor(algorithm='auto', leaf_size=30, metric='minkowski',\n",
      "                    metric_params=None, n_jobs=None, n_neighbors=5, p=2,\n",
      "                    weights='uniform')\n",
      "R2_score =  -0.029271495870515363\n",
      "Mean_Squared_Error = 0.030439366307027062\n",
      "RMSE=  0.17446881184620666\n",
      "Cross_Val_Score =  -7.439985144700026e+29\n",
      "\n",
      "\n",
      "********************************* DecisionTreeRegressor *********************************\n",
      "\n",
      " DecisionTreeRegressor(criterion='mse', max_depth=None, max_features=None,\n",
      "                      max_leaf_nodes=None, min_impurity_decrease=0.0,\n",
      "                      min_impurity_split=None, min_samples_leaf=1,\n",
      "                      min_samples_split=2, min_weight_fraction_leaf=0.0,\n",
      "                      presort=False, random_state=97, splitter='best')\n",
      "R2_score =  -0.7081744952914124\n",
      "Mean_Squared_Error = 0.05051703985499037\n",
      "RMSE=  0.22475996052453465\n",
      "Cross_Val_Score =  -2.504678544516701e+30\n",
      "\n",
      "\n",
      "********************************* AdaBoostRegressor *********************************\n",
      "\n",
      " AdaBoostRegressor(base_estimator=None, learning_rate=1.0, loss='linear',\n",
      "                  n_estimators=50, random_state=97)\n",
      "R2_score =  0.05613353686616396\n",
      "Mean_Squared_Error = 0.027913623501202325\n",
      "RMSE=  0.16707370679194955\n",
      "Cross_Val_Score =  -3.778791641990856e+29\n",
      "\n",
      "\n",
      "********************************* RandomForestRegressor *********************************\n",
      "\n",
      " RandomForestRegressor(bootstrap=True, criterion='mse', max_depth=None,\n",
      "                      max_features='auto', max_leaf_nodes=None,\n",
      "                      min_impurity_decrease=0.0, min_impurity_split=None,\n",
      "                      min_samples_leaf=1, min_samples_split=2,\n",
      "                      min_weight_fraction_leaf=0.0, n_estimators=10,\n",
      "                      n_jobs=None, oob_score=False, random_state=97, verbose=0,\n",
      "                      warm_start=False)\n",
      "R2_score =  -0.02638938163922666\n",
      "Mean_Squared_Error = 0.030354131525750335\n",
      "RMSE=  0.1742243712164011\n",
      "Cross_Val_Score =  -7.905163794220405e+29\n",
      "\n",
      "\n",
      "********************************* GradientBoostingRegressor *********************************\n",
      "\n",
      " GradientBoostingRegressor(alpha=0.9, criterion='friedman_mse', init=None,\n",
      "                          learning_rate=0.1, loss='ls', max_depth=3,\n",
      "                          max_features=None, max_leaf_nodes=None,\n",
      "                          min_impurity_decrease=0.0, min_impurity_split=None,\n",
      "                          min_samples_leaf=1, min_samples_split=2,\n",
      "                          min_weight_fraction_leaf=0.0, n_estimators=100,\n",
      "                          n_iter_no_change=None, presort='auto',\n",
      "                          random_state=97, subsample=1.0, tol=0.0001,\n",
      "                          validation_fraction=0.1, verbose=0, warm_start=False)\n",
      "R2_score =  0.14679382056872148\n",
      "Mean_Squared_Error = 0.025232463480553788\n",
      "RMSE=  0.15884729610715376\n",
      "Cross_Val_Score =  -3.392193789335437e+29\n",
      "\n",
      "\n"
     ]
    }
   ],
   "source": [
    "Model=[]\n",
    "R2_score=[]\n",
    "cvs=[]\n",
    "MSE=[]\n",
    "rmse=[]\n",
    "for m,model in models:\n",
    "    print('*********************************',m,'*********************************')\n",
    "    print('\\n',model)\n",
    "    Model.append(name)\n",
    "    model.fit(X_train,y_train)\n",
    "    pre=model.predict(X_test)\n",
    "    r2=r2_score(y_test,pre)\n",
    "    print('R2_score = ',r2)\n",
    "    R2_score.append(r2)\n",
    "    mse=mean_squared_error(y_test,pre)\n",
    "    print(\"Mean_Squared_Error =\",mse)\n",
    "    MSE.append(round(mse,3))\n",
    "    b=np.sqrt(mse)\n",
    "    print('RMSE= ',b)\n",
    "    rmse.append(b)\n",
    "    score= cross_val_score(model,X,y,cv=10,scoring='r2').mean()\n",
    "    print('Cross_Val_Score = ',score)\n",
    "    cvs.append(score)\n",
    "    print('\\n')"
   ]
  },
  {
   "cell_type": "markdown",
   "metadata": {},
   "source": [
    "I Choose GradientBoostingRegressor as my final model because it perform very well on our dataset.RMSE value is low.\n",
    "\n",
    "R2_score =  0.14679382056872148\n",
    "\n",
    "Mean_Squared_Error = 0.025232463480553788\n",
    "\n",
    "RMSE=  0.15884729610715376\n",
    "\n",
    "Cross_Val_Score =  -3.392193789335437e+29\n"
   ]
  },
  {
   "cell_type": "code",
   "execution_count": 51,
   "metadata": {},
   "outputs": [
    {
     "data": {
      "text/plain": [
       "['doc_joblib']"
      ]
     },
     "execution_count": 51,
     "metadata": {},
     "output_type": "execute_result"
    }
   ],
   "source": [
    "from sklearn.externals import joblib\n",
    "\n",
    "joblib.dump(gb,'doc_joblib')"
   ]
  },
  {
   "cell_type": "code",
   "execution_count": null,
   "metadata": {},
   "outputs": [],
   "source": []
  }
 ],
 "metadata": {
  "kernelspec": {
   "display_name": "Python 3",
   "language": "python",
   "name": "python3"
  },
  "language_info": {
   "codemirror_mode": {
    "name": "ipython",
    "version": 3
   },
   "file_extension": ".py",
   "mimetype": "text/x-python",
   "name": "python",
   "nbconvert_exporter": "python",
   "pygments_lexer": "ipython3",
   "version": "3.7.4"
  }
 },
 "nbformat": 4,
 "nbformat_minor": 2
}
