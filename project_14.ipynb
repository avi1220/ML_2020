{
 "cells": [
  {
   "cell_type": "code",
   "execution_count": 1,
   "metadata": {},
   "outputs": [],
   "source": [
    "import pandas as pd\n",
    "import numpy as np\n",
    "from matplotlib import pyplot as plt\n",
    "import seaborn as sns\n",
    "from sklearn.preprocessing import LabelEncoder\n",
    "from sklearn.model_selection import train_test_split,cross_val_score\n",
    "from sklearn.metrics import mean_absolute_error\n",
    "from sklearn.metrics import mean_squared_error\n",
    "from sklearn.metrics import r2_score\n",
    "from sklearn.linear_model import LinearRegression,Lasso,Ridge,ElasticNet\n",
    "from sklearn import metrics\n",
    "from sklearn.tree import DecisionTreeRegressor\n",
    "from sklearn.neighbors import KNeighborsRegressor\n",
    "from sklearn.ensemble import RandomForestRegressor,AdaBoostRegressor,GradientBoostingRegressor\n",
    "import warnings\n",
    "warnings.filterwarnings('ignore')"
   ]
  },
  {
   "cell_type": "code",
   "execution_count": 2,
   "metadata": {},
   "outputs": [
    {
     "data": {
      "text/html": [
       "<div>\n",
       "<style scoped>\n",
       "    .dataframe tbody tr th:only-of-type {\n",
       "        vertical-align: middle;\n",
       "    }\n",
       "\n",
       "    .dataframe tbody tr th {\n",
       "        vertical-align: top;\n",
       "    }\n",
       "\n",
       "    .dataframe thead th {\n",
       "        text-align: right;\n",
       "    }\n",
       "</style>\n",
       "<table border=\"1\" class=\"dataframe\">\n",
       "  <thead>\n",
       "    <tr style=\"text-align: right;\">\n",
       "      <th></th>\n",
       "      <th>TITLE</th>\n",
       "      <th>RESTAURANT_ID</th>\n",
       "      <th>CUISINES</th>\n",
       "      <th>TIME</th>\n",
       "      <th>CITY</th>\n",
       "      <th>LOCALITY</th>\n",
       "      <th>RATING</th>\n",
       "      <th>VOTES</th>\n",
       "      <th>COST</th>\n",
       "    </tr>\n",
       "  </thead>\n",
       "  <tbody>\n",
       "    <tr>\n",
       "      <td>0</td>\n",
       "      <td>CASUAL DINING</td>\n",
       "      <td>9438</td>\n",
       "      <td>Malwani, Goan, North Indian</td>\n",
       "      <td>11am – 4pm, 7:30pm – 11:30pm (Mon-Sun)</td>\n",
       "      <td>Thane</td>\n",
       "      <td>Dombivali East</td>\n",
       "      <td>3.6</td>\n",
       "      <td>49 votes</td>\n",
       "      <td>1200</td>\n",
       "    </tr>\n",
       "    <tr>\n",
       "      <td>1</td>\n",
       "      <td>CASUAL DINING,BAR</td>\n",
       "      <td>13198</td>\n",
       "      <td>Asian, Modern Indian, Japanese</td>\n",
       "      <td>6pm – 11pm (Mon-Sun)</td>\n",
       "      <td>Chennai</td>\n",
       "      <td>Ramapuram</td>\n",
       "      <td>4.2</td>\n",
       "      <td>30 votes</td>\n",
       "      <td>1500</td>\n",
       "    </tr>\n",
       "    <tr>\n",
       "      <td>2</td>\n",
       "      <td>CASUAL DINING</td>\n",
       "      <td>10915</td>\n",
       "      <td>North Indian, Chinese, Biryani, Hyderabadi</td>\n",
       "      <td>11am – 3:30pm, 7pm – 11pm (Mon-Sun)</td>\n",
       "      <td>Chennai</td>\n",
       "      <td>Saligramam</td>\n",
       "      <td>3.8</td>\n",
       "      <td>221 votes</td>\n",
       "      <td>800</td>\n",
       "    </tr>\n",
       "    <tr>\n",
       "      <td>3</td>\n",
       "      <td>QUICK BITES</td>\n",
       "      <td>6346</td>\n",
       "      <td>Tibetan, Chinese</td>\n",
       "      <td>11:30am – 1am (Mon-Sun)</td>\n",
       "      <td>Mumbai</td>\n",
       "      <td>Bandra West</td>\n",
       "      <td>4.1</td>\n",
       "      <td>24 votes</td>\n",
       "      <td>800</td>\n",
       "    </tr>\n",
       "    <tr>\n",
       "      <td>4</td>\n",
       "      <td>DESSERT PARLOR</td>\n",
       "      <td>15387</td>\n",
       "      <td>Desserts</td>\n",
       "      <td>11am – 1am (Mon-Sun)</td>\n",
       "      <td>Mumbai</td>\n",
       "      <td>Lower Parel</td>\n",
       "      <td>3.8</td>\n",
       "      <td>165 votes</td>\n",
       "      <td>300</td>\n",
       "    </tr>\n",
       "  </tbody>\n",
       "</table>\n",
       "</div>"
      ],
      "text/plain": [
       "               TITLE  RESTAURANT_ID  \\\n",
       "0      CASUAL DINING           9438   \n",
       "1  CASUAL DINING,BAR          13198   \n",
       "2      CASUAL DINING          10915   \n",
       "3        QUICK BITES           6346   \n",
       "4     DESSERT PARLOR          15387   \n",
       "\n",
       "                                     CUISINES  \\\n",
       "0                 Malwani, Goan, North Indian   \n",
       "1              Asian, Modern Indian, Japanese   \n",
       "2  North Indian, Chinese, Biryani, Hyderabadi   \n",
       "3                            Tibetan, Chinese   \n",
       "4                                    Desserts   \n",
       "\n",
       "                                     TIME     CITY        LOCALITY RATING  \\\n",
       "0  11am – 4pm, 7:30pm – 11:30pm (Mon-Sun)    Thane  Dombivali East    3.6   \n",
       "1                    6pm – 11pm (Mon-Sun)  Chennai       Ramapuram    4.2   \n",
       "2     11am – 3:30pm, 7pm – 11pm (Mon-Sun)  Chennai      Saligramam    3.8   \n",
       "3                 11:30am – 1am (Mon-Sun)   Mumbai     Bandra West    4.1   \n",
       "4                    11am – 1am (Mon-Sun)   Mumbai     Lower Parel    3.8   \n",
       "\n",
       "       VOTES  COST  \n",
       "0   49 votes  1200  \n",
       "1   30 votes  1500  \n",
       "2  221 votes   800  \n",
       "3   24 votes   800  \n",
       "4  165 votes   300  "
      ]
     },
     "execution_count": 2,
     "metadata": {},
     "output_type": "execute_result"
    }
   ],
   "source": [
    "df_train=pd.read_excel(\"RestaurantData_Train.xlsx\")\n",
    "df_train.head()"
   ]
  },
  {
   "cell_type": "code",
   "execution_count": 3,
   "metadata": {},
   "outputs": [
    {
     "data": {
      "text/html": [
       "<div>\n",
       "<style scoped>\n",
       "    .dataframe tbody tr th:only-of-type {\n",
       "        vertical-align: middle;\n",
       "    }\n",
       "\n",
       "    .dataframe tbody tr th {\n",
       "        vertical-align: top;\n",
       "    }\n",
       "\n",
       "    .dataframe thead th {\n",
       "        text-align: right;\n",
       "    }\n",
       "</style>\n",
       "<table border=\"1\" class=\"dataframe\">\n",
       "  <thead>\n",
       "    <tr style=\"text-align: right;\">\n",
       "      <th></th>\n",
       "      <th>TITLE</th>\n",
       "      <th>RESTAURANT_ID</th>\n",
       "      <th>CUISINES</th>\n",
       "      <th>TIME</th>\n",
       "      <th>CITY</th>\n",
       "      <th>LOCALITY</th>\n",
       "      <th>RATING</th>\n",
       "      <th>VOTES</th>\n",
       "    </tr>\n",
       "  </thead>\n",
       "  <tbody>\n",
       "    <tr>\n",
       "      <td>0</td>\n",
       "      <td>CASUAL DINING</td>\n",
       "      <td>4085</td>\n",
       "      <td>North Indian, Chinese, Mughlai, Kebab</td>\n",
       "      <td>12noon – 12midnight (Mon-Sun)</td>\n",
       "      <td>Noida</td>\n",
       "      <td>Sector 18</td>\n",
       "      <td>4.3</td>\n",
       "      <td>564 votes</td>\n",
       "    </tr>\n",
       "    <tr>\n",
       "      <td>1</td>\n",
       "      <td>QUICK BITES</td>\n",
       "      <td>12680</td>\n",
       "      <td>South Indian, Fast Food, Pizza, North Indian</td>\n",
       "      <td>7am – 12:30AM (Mon-Sun)</td>\n",
       "      <td>Mumbai</td>\n",
       "      <td>Grant Road</td>\n",
       "      <td>4.2</td>\n",
       "      <td>61 votes</td>\n",
       "    </tr>\n",
       "    <tr>\n",
       "      <td>2</td>\n",
       "      <td>CASUAL DINING</td>\n",
       "      <td>1411</td>\n",
       "      <td>North Indian, Seafood, Biryani, Chinese</td>\n",
       "      <td>11am – 11:30pm (Mon-Sun)</td>\n",
       "      <td>Mumbai</td>\n",
       "      <td>Marine Lines</td>\n",
       "      <td>3.8</td>\n",
       "      <td>350 votes</td>\n",
       "    </tr>\n",
       "    <tr>\n",
       "      <td>3</td>\n",
       "      <td>None</td>\n",
       "      <td>204</td>\n",
       "      <td>Biryani</td>\n",
       "      <td>9am – 10pm (Mon, Wed, Thu, Fri, Sat, Sun), 10:...</td>\n",
       "      <td>Faridabad</td>\n",
       "      <td>NIT</td>\n",
       "      <td>3.8</td>\n",
       "      <td>1445 votes</td>\n",
       "    </tr>\n",
       "    <tr>\n",
       "      <td>4</td>\n",
       "      <td>QUICK BITES</td>\n",
       "      <td>13453</td>\n",
       "      <td>South Indian, Kerala</td>\n",
       "      <td>11am – 10pm (Mon-Sun)</td>\n",
       "      <td>Kochi</td>\n",
       "      <td>Kaloor</td>\n",
       "      <td>3.6</td>\n",
       "      <td>23 votes</td>\n",
       "    </tr>\n",
       "  </tbody>\n",
       "</table>\n",
       "</div>"
      ],
      "text/plain": [
       "           TITLE  RESTAURANT_ID                                      CUISINES  \\\n",
       "0  CASUAL DINING           4085         North Indian, Chinese, Mughlai, Kebab   \n",
       "1    QUICK BITES          12680  South Indian, Fast Food, Pizza, North Indian   \n",
       "2  CASUAL DINING           1411       North Indian, Seafood, Biryani, Chinese   \n",
       "3           None            204                                       Biryani   \n",
       "4    QUICK BITES          13453                          South Indian, Kerala   \n",
       "\n",
       "                                                TIME       CITY      LOCALITY  \\\n",
       "0                      12noon – 12midnight (Mon-Sun)      Noida     Sector 18   \n",
       "1                            7am – 12:30AM (Mon-Sun)     Mumbai    Grant Road   \n",
       "2                           11am – 11:30pm (Mon-Sun)     Mumbai  Marine Lines   \n",
       "3  9am – 10pm (Mon, Wed, Thu, Fri, Sat, Sun), 10:...  Faridabad           NIT   \n",
       "4                              11am – 10pm (Mon-Sun)      Kochi        Kaloor   \n",
       "\n",
       "  RATING       VOTES  \n",
       "0    4.3   564 votes  \n",
       "1    4.2    61 votes  \n",
       "2    3.8   350 votes  \n",
       "3    3.8  1445 votes  \n",
       "4    3.6    23 votes  "
      ]
     },
     "execution_count": 3,
     "metadata": {},
     "output_type": "execute_result"
    }
   ],
   "source": [
    "df_test=pd.read_excel(\"RestaurantData_Test.xlsx\")\n",
    "df_test.head()"
   ]
  },
  {
   "cell_type": "code",
   "execution_count": 4,
   "metadata": {},
   "outputs": [],
   "source": [
    "df_train[\"DATA\"] = \"train\"\n",
    "df_test[\"DATA\"] = \"test\"\n",
    "df_test[\"COST\"]=0"
   ]
  },
  {
   "cell_type": "code",
   "execution_count": 5,
   "metadata": {},
   "outputs": [
    {
     "data": {
      "text/html": [
       "<div>\n",
       "<style scoped>\n",
       "    .dataframe tbody tr th:only-of-type {\n",
       "        vertical-align: middle;\n",
       "    }\n",
       "\n",
       "    .dataframe tbody tr th {\n",
       "        vertical-align: top;\n",
       "    }\n",
       "\n",
       "    .dataframe thead th {\n",
       "        text-align: right;\n",
       "    }\n",
       "</style>\n",
       "<table border=\"1\" class=\"dataframe\">\n",
       "  <thead>\n",
       "    <tr style=\"text-align: right;\">\n",
       "      <th></th>\n",
       "      <th>CITY</th>\n",
       "      <th>COST</th>\n",
       "      <th>CUISINES</th>\n",
       "      <th>DATA</th>\n",
       "      <th>LOCALITY</th>\n",
       "      <th>RATING</th>\n",
       "      <th>RESTAURANT_ID</th>\n",
       "      <th>TIME</th>\n",
       "      <th>TITLE</th>\n",
       "      <th>VOTES</th>\n",
       "    </tr>\n",
       "  </thead>\n",
       "  <tbody>\n",
       "    <tr>\n",
       "      <td>0</td>\n",
       "      <td>Thane</td>\n",
       "      <td>1200</td>\n",
       "      <td>Malwani, Goan, North Indian</td>\n",
       "      <td>train</td>\n",
       "      <td>Dombivali East</td>\n",
       "      <td>3.6</td>\n",
       "      <td>9438</td>\n",
       "      <td>11am – 4pm, 7:30pm – 11:30pm (Mon-Sun)</td>\n",
       "      <td>CASUAL DINING</td>\n",
       "      <td>49 votes</td>\n",
       "    </tr>\n",
       "    <tr>\n",
       "      <td>1</td>\n",
       "      <td>Chennai</td>\n",
       "      <td>1500</td>\n",
       "      <td>Asian, Modern Indian, Japanese</td>\n",
       "      <td>train</td>\n",
       "      <td>Ramapuram</td>\n",
       "      <td>4.2</td>\n",
       "      <td>13198</td>\n",
       "      <td>6pm – 11pm (Mon-Sun)</td>\n",
       "      <td>CASUAL DINING,BAR</td>\n",
       "      <td>30 votes</td>\n",
       "    </tr>\n",
       "    <tr>\n",
       "      <td>2</td>\n",
       "      <td>Chennai</td>\n",
       "      <td>800</td>\n",
       "      <td>North Indian, Chinese, Biryani, Hyderabadi</td>\n",
       "      <td>train</td>\n",
       "      <td>Saligramam</td>\n",
       "      <td>3.8</td>\n",
       "      <td>10915</td>\n",
       "      <td>11am – 3:30pm, 7pm – 11pm (Mon-Sun)</td>\n",
       "      <td>CASUAL DINING</td>\n",
       "      <td>221 votes</td>\n",
       "    </tr>\n",
       "    <tr>\n",
       "      <td>3</td>\n",
       "      <td>Mumbai</td>\n",
       "      <td>800</td>\n",
       "      <td>Tibetan, Chinese</td>\n",
       "      <td>train</td>\n",
       "      <td>Bandra West</td>\n",
       "      <td>4.1</td>\n",
       "      <td>6346</td>\n",
       "      <td>11:30am – 1am (Mon-Sun)</td>\n",
       "      <td>QUICK BITES</td>\n",
       "      <td>24 votes</td>\n",
       "    </tr>\n",
       "    <tr>\n",
       "      <td>4</td>\n",
       "      <td>Mumbai</td>\n",
       "      <td>300</td>\n",
       "      <td>Desserts</td>\n",
       "      <td>train</td>\n",
       "      <td>Lower Parel</td>\n",
       "      <td>3.8</td>\n",
       "      <td>15387</td>\n",
       "      <td>11am – 1am (Mon-Sun)</td>\n",
       "      <td>DESSERT PARLOR</td>\n",
       "      <td>165 votes</td>\n",
       "    </tr>\n",
       "    <tr>\n",
       "      <td>5</td>\n",
       "      <td>Mumbai</td>\n",
       "      <td>800</td>\n",
       "      <td>North Indian, Chinese, Seafood, Biryani</td>\n",
       "      <td>train</td>\n",
       "      <td>Vile Parle West</td>\n",
       "      <td>4.0</td>\n",
       "      <td>5618</td>\n",
       "      <td>12noon – 12:30AM (Mon-Sun)</td>\n",
       "      <td>CASUAL DINING</td>\n",
       "      <td>550 votes</td>\n",
       "    </tr>\n",
       "    <tr>\n",
       "      <td>6</td>\n",
       "      <td>Bangalore</td>\n",
       "      <td>600</td>\n",
       "      <td>Cafe, Chinese, Pizza, North Indian, Burger</td>\n",
       "      <td>train</td>\n",
       "      <td>Koramangala 6th Block</td>\n",
       "      <td>4.1</td>\n",
       "      <td>4383</td>\n",
       "      <td>12noon – 11:30pm (Mon, Tue, Thu, Fri, Sat, Sun...</td>\n",
       "      <td>CAFÉ</td>\n",
       "      <td>509 votes</td>\n",
       "    </tr>\n",
       "    <tr>\n",
       "      <td>7</td>\n",
       "      <td>Gurgaon</td>\n",
       "      <td>1600</td>\n",
       "      <td>Bar Food</td>\n",
       "      <td>train</td>\n",
       "      <td>Sector 29</td>\n",
       "      <td>4.3</td>\n",
       "      <td>1249</td>\n",
       "      <td>1pm – 1am (Mon-Sun)</td>\n",
       "      <td>MICROBREWERY</td>\n",
       "      <td>1612 votes</td>\n",
       "    </tr>\n",
       "    <tr>\n",
       "      <td>8</td>\n",
       "      <td>Bangalore</td>\n",
       "      <td>300</td>\n",
       "      <td>South Indian, North Indian</td>\n",
       "      <td>train</td>\n",
       "      <td>Bannerghatta Road</td>\n",
       "      <td>3.9</td>\n",
       "      <td>7062</td>\n",
       "      <td>7am – 10:30pm (Mon-Sun)</td>\n",
       "      <td>QUICK BITES</td>\n",
       "      <td>101 votes</td>\n",
       "    </tr>\n",
       "    <tr>\n",
       "      <td>9</td>\n",
       "      <td>Hyderabad</td>\n",
       "      <td>200</td>\n",
       "      <td>North Indian</td>\n",
       "      <td>train</td>\n",
       "      <td>Dilsukhnagar</td>\n",
       "      <td>3.3</td>\n",
       "      <td>10109</td>\n",
       "      <td>11am – 2pm, 4pm – 10:30pm (Mon-Sun)</td>\n",
       "      <td>QUICK BITES</td>\n",
       "      <td>219 votes</td>\n",
       "    </tr>\n",
       "  </tbody>\n",
       "</table>\n",
       "</div>"
      ],
      "text/plain": [
       "        CITY  COST                                    CUISINES   DATA  \\\n",
       "0      Thane  1200                 Malwani, Goan, North Indian  train   \n",
       "1    Chennai  1500              Asian, Modern Indian, Japanese  train   \n",
       "2    Chennai   800  North Indian, Chinese, Biryani, Hyderabadi  train   \n",
       "3     Mumbai   800                            Tibetan, Chinese  train   \n",
       "4     Mumbai   300                                    Desserts  train   \n",
       "5     Mumbai   800     North Indian, Chinese, Seafood, Biryani  train   \n",
       "6  Bangalore   600  Cafe, Chinese, Pizza, North Indian, Burger  train   \n",
       "7    Gurgaon  1600                                    Bar Food  train   \n",
       "8  Bangalore   300                  South Indian, North Indian  train   \n",
       "9  Hyderabad   200                                North Indian  train   \n",
       "\n",
       "                LOCALITY RATING  RESTAURANT_ID  \\\n",
       "0         Dombivali East    3.6           9438   \n",
       "1              Ramapuram    4.2          13198   \n",
       "2             Saligramam    3.8          10915   \n",
       "3            Bandra West    4.1           6346   \n",
       "4            Lower Parel    3.8          15387   \n",
       "5        Vile Parle West    4.0           5618   \n",
       "6  Koramangala 6th Block    4.1           4383   \n",
       "7              Sector 29    4.3           1249   \n",
       "8      Bannerghatta Road    3.9           7062   \n",
       "9           Dilsukhnagar    3.3          10109   \n",
       "\n",
       "                                                TIME              TITLE  \\\n",
       "0             11am – 4pm, 7:30pm – 11:30pm (Mon-Sun)      CASUAL DINING   \n",
       "1                               6pm – 11pm (Mon-Sun)  CASUAL DINING,BAR   \n",
       "2                11am – 3:30pm, 7pm – 11pm (Mon-Sun)      CASUAL DINING   \n",
       "3                            11:30am – 1am (Mon-Sun)        QUICK BITES   \n",
       "4                               11am – 1am (Mon-Sun)     DESSERT PARLOR   \n",
       "5                         12noon – 12:30AM (Mon-Sun)      CASUAL DINING   \n",
       "6  12noon – 11:30pm (Mon, Tue, Thu, Fri, Sat, Sun...               CAFÉ   \n",
       "7                                1pm – 1am (Mon-Sun)       MICROBREWERY   \n",
       "8                            7am – 10:30pm (Mon-Sun)        QUICK BITES   \n",
       "9                11am – 2pm, 4pm – 10:30pm (Mon-Sun)        QUICK BITES   \n",
       "\n",
       "        VOTES  \n",
       "0    49 votes  \n",
       "1    30 votes  \n",
       "2   221 votes  \n",
       "3    24 votes  \n",
       "4   165 votes  \n",
       "5   550 votes  \n",
       "6   509 votes  \n",
       "7  1612 votes  \n",
       "8   101 votes  \n",
       "9   219 votes  "
      ]
     },
     "execution_count": 5,
     "metadata": {},
     "output_type": "execute_result"
    }
   ],
   "source": [
    "res=pd.concat([df_train,df_test])\n",
    "res.head(10)"
   ]
  },
  {
   "cell_type": "code",
   "execution_count": 6,
   "metadata": {},
   "outputs": [
    {
     "data": {
      "text/plain": [
       "(16921, 10)"
      ]
     },
     "execution_count": 6,
     "metadata": {},
     "output_type": "execute_result"
    }
   ],
   "source": [
    "res.shape"
   ]
  },
  {
   "cell_type": "code",
   "execution_count": 7,
   "metadata": {},
   "outputs": [
    {
     "name": "stdout",
     "output_type": "stream",
     "text": [
      "<class 'pandas.core.frame.DataFrame'>\n",
      "Int64Index: 16921 entries, 0 to 4230\n",
      "Data columns (total 10 columns):\n",
      "CITY             16774 non-null object\n",
      "COST             16921 non-null int64\n",
      "CUISINES         16921 non-null object\n",
      "DATA             16921 non-null object\n",
      "LOCALITY         16793 non-null object\n",
      "RATING           16917 non-null object\n",
      "RESTAURANT_ID    16921 non-null int64\n",
      "TIME             16921 non-null object\n",
      "TITLE            16921 non-null object\n",
      "VOTES            15315 non-null object\n",
      "dtypes: int64(2), object(8)\n",
      "memory usage: 1.4+ MB\n"
     ]
    }
   ],
   "source": [
    "res.info()"
   ]
  },
  {
   "cell_type": "code",
   "execution_count": 8,
   "metadata": {},
   "outputs": [
    {
     "data": {
      "text/plain": [
       "CITY              147\n",
       "COST                0\n",
       "CUISINES            0\n",
       "DATA                0\n",
       "LOCALITY          128\n",
       "RATING              4\n",
       "RESTAURANT_ID       0\n",
       "TIME                0\n",
       "TITLE               0\n",
       "VOTES            1606\n",
       "dtype: int64"
      ]
     },
     "execution_count": 8,
     "metadata": {},
     "output_type": "execute_result"
    }
   ],
   "source": [
    "res.isna().sum()"
   ]
  },
  {
   "cell_type": "code",
   "execution_count": 9,
   "metadata": {},
   "outputs": [
    {
     "data": {
      "text/plain": [
       "<matplotlib.axes._subplots.AxesSubplot at 0x237f6875148>"
      ]
     },
     "execution_count": 9,
     "metadata": {},
     "output_type": "execute_result"
    },
    {
     "data": {
      "image/png": "[encoded data removed]",
      "text/plain": [
       "<Figure size 432x288 with 2 Axes>"
      ]
     },
     "metadata": {
      "needs_background": "light"
     },
     "output_type": "display_data"
    }
   ],
   "source": [
    "sns.heatmap(res.isna())"
   ]
  },
  {
   "cell_type": "code",
   "execution_count": 10,
   "metadata": {},
   "outputs": [
    {
     "data": {
      "text/plain": [
       "Chennai                           2855\n",
       "Bangalore                         2835\n",
       "Hyderabad                         2458\n",
       "Mumbai                            2311\n",
       "New Delhi                         1754\n",
       "                                  ... \n",
       "NEW BEL ROAD 560054                  1\n",
       "Near Santosh Banjara Hyderabad       1\n",
       "Girgaum                              1\n",
       "Chennai Thousand Lights              1\n",
       "Sholinganallur. Chennai              1\n",
       "Name: CITY, Length: 450, dtype: int64"
      ]
     },
     "execution_count": 10,
     "metadata": {},
     "output_type": "execute_result"
    }
   ],
   "source": [
    "res['CITY'].value_counts()"
   ]
  },
  {
   "cell_type": "code",
   "execution_count": 11,
   "metadata": {},
   "outputs": [
    {
     "data": {
      "text/plain": [
       "array(['Malwani, Goan, North Indian', 'Asian, Modern Indian, Japanese',\n",
       "       'North Indian, Chinese, Biryani, Hyderabadi', ...,\n",
       "       'European, Mediterranean, Italian, Sushi',\n",
       "       'North Indian, Chinese, Kebab, Juices', 'Sindhi, Street Food'],\n",
       "      dtype=object)"
      ]
     },
     "execution_count": 11,
     "metadata": {},
     "output_type": "execute_result"
    }
   ],
   "source": [
    "res['CUISINES'].unique()"
   ]
  },
  {
   "cell_type": "code",
   "execution_count": 12,
   "metadata": {},
   "outputs": [
    {
     "data": {
      "text/plain": [
       "North Indian                                                716\n",
       "North Indian, Chinese                                       714\n",
       "South Indian                                                706\n",
       "Fast Food                                                   364\n",
       "Chinese                                                     226\n",
       "                                                           ... \n",
       "Cafe, North Indian, Biryani                                   1\n",
       "Continental, Desserts, Italian, North Indian, BBQ, Asian      1\n",
       "Street Food, Mithai, Juices                                   1\n",
       "European, Healthy Food, Indian                                1\n",
       "South Indian, Kerala, Italian                                 1\n",
       "Name: CUISINES, Length: 5183, dtype: int64"
      ]
     },
     "execution_count": 12,
     "metadata": {},
     "output_type": "execute_result"
    }
   ],
   "source": [
    "res['CUISINES'].value_counts()"
   ]
  },
  {
   "cell_type": "code",
   "execution_count": 13,
   "metadata": {},
   "outputs": [],
   "source": [
    "res['CUISINES1']=res['CUISINES'].str.split(',').str[0]\n",
    "res['CUISINES2']=res['CUISINES'].str.split(',').str[1]\n",
    "res['CUISINES3']=res['CUISINES'].str.split(',').str[2]\n",
    "res['CUISINES4']=res['CUISINES'].str.split(',').str[3]\n",
    "res['CUISINES5']=res['CUISINES'].str.split(',').str[4]"
   ]
  },
  {
   "cell_type": "code",
   "execution_count": 14,
   "metadata": {},
   "outputs": [
    {
     "data": {
      "text/plain": [
       "Gachibowli                               216\n",
       "Indiranagar                              187\n",
       "Kakkanad                                 175\n",
       "Kukatpally                               171\n",
       "Madhapur                                 169\n",
       "                                        ... \n",
       "Near Pravasi Industrial Goregaon East      1\n",
       "Aditya Heights                             1\n",
       "Near Safdarjung                            1\n",
       "Chunabhatti East                           1\n",
       "NWA Club Road Punjabi Bagh                 1\n",
       "Name: LOCALITY, Length: 1636, dtype: int64"
      ]
     },
     "execution_count": 14,
     "metadata": {},
     "output_type": "execute_result"
    }
   ],
   "source": [
    "res['LOCALITY'].value_counts()"
   ]
  },
  {
   "cell_type": "code",
   "execution_count": 15,
   "metadata": {},
   "outputs": [
    {
     "data": {
      "text/plain": [
       "array(['3.6', '4.2', '3.8', '4.1', '4.0', '4.3', '3.9', '3.3', '3.4', '-',\n",
       "       '4.5', '3.5', '4.4', '2.7', '3.7', '4.7', 'NEW', '3.1', '2.5',\n",
       "       '4.6', '2.8', nan, '3.0', '3.2', '2.6', '2.9', '4.9', '4.8', '2.4',\n",
       "       '2.3', '2.0', '2.1', '2.2'], dtype=object)"
      ]
     },
     "execution_count": 15,
     "metadata": {},
     "output_type": "execute_result"
    }
   ],
   "source": [
    "res['RATING'].unique()"
   ]
  },
  {
   "cell_type": "code",
   "execution_count": 16,
   "metadata": {},
   "outputs": [],
   "source": [
    "res[\"RATING\"].replace('NEW',1.5,inplace=True)\n",
    "res[\"RATING\"].replace('-',2.5,inplace=True)"
   ]
  },
  {
   "cell_type": "code",
   "execution_count": 17,
   "metadata": {},
   "outputs": [],
   "source": [
    "res['RATING']=res['RATING'].astype(float)"
   ]
  },
  {
   "cell_type": "code",
   "execution_count": 18,
   "metadata": {},
   "outputs": [
    {
     "data": {
      "text/plain": [
       "array(['CASUAL DINING', 'CASUAL DINING,BAR', 'QUICK BITES',\n",
       "       'DESSERT PARLOR', 'CAFÉ', 'MICROBREWERY',\n",
       "       'QUICK BITES,BEVERAGE SHOP', 'CASUAL DINING,IRANI CAFE',\n",
       "       'BAKERY,QUICK BITES', 'None', 'BAR,CASUAL DINING', 'BAR', 'PUB',\n",
       "       'BEVERAGE SHOP', 'FINE DINING', 'CAFÉ,QUICK BITES',\n",
       "       'BEVERAGE SHOP,DESSERT PARLOR', 'SWEET SHOP,QUICK BITES',\n",
       "       'DESSERT PARLOR,SWEET SHOP', 'BAKERY', 'BAKERY,DESSERT PARLOR',\n",
       "       'BAR,LOUNGE', 'FOOD COURT', 'LOUNGE',\n",
       "       'DESSERT PARLOR,BEVERAGE SHOP', 'LOUNGE,CASUAL DINING',\n",
       "       'FOOD TRUCK', 'QUICK BITES,FOOD COURT', 'SWEET SHOP',\n",
       "       'BEVERAGE SHOP,FOOD COURT', 'PUB,CASUAL DINING', 'MESS',\n",
       "       'MICROBREWERY,CASUAL DINING', 'CASUAL DINING,SWEET SHOP', 'KIOSK',\n",
       "       'QUICK BITES,KIOSK', 'CLUB', 'FINE DINING,BAR',\n",
       "       'DESSERT PARLOR,QUICK BITES', 'FOOD COURT,QUICK BITES',\n",
       "       'LOUNGE,CAFÉ', 'BAKERY,CONFECTIONERY', 'CASUAL DINING,CAFÉ',\n",
       "       'DHABA', 'CAFÉ,DESSERT PARLOR', 'QUICK BITES,DESSERT PARLOR',\n",
       "       'PUB,MICROBREWERY', 'LOUNGE,BAR', 'DESSERT PARLOR,CAFÉ',\n",
       "       'CAFÉ,BAR', 'SWEET SHOP,CONFECTIONERY', 'CASUAL DINING,PUB',\n",
       "       'MICROBREWERY,BAR', 'DESSERT PARLOR,BAKERY',\n",
       "       'QUICK BITES,SWEET SHOP', 'BEVERAGE SHOP,QUICK BITES',\n",
       "       'CASUAL DINING,LOUNGE', 'CASUAL DINING,CLUB', 'QUICK BITES,CAFÉ',\n",
       "       'BAR,CAFÉ', 'CAFÉ,CASUAL DINING', 'QUICK BITES,CASUAL DINING',\n",
       "       'CASUAL DINING,MICROBREWERY', 'CASUAL DINING,BAKERY',\n",
       "       'CAFÉ,BAKERY', 'MEAT SHOP', 'QUICK BITES,BAKERY',\n",
       "       'BAR,FINE DINING', 'SWEET SHOP,CASUAL DINING',\n",
       "       'MEAT SHOP,QUICK BITES', 'PUB,LOUNGE', 'BAKERY,CAFÉ',\n",
       "       'COCKTAIL BAR', 'FINE DINING,LOUNGE', 'CONFECTIONERY',\n",
       "       'QUICK BITES,BAR', 'BAKERY,FOOD COURT', 'PUB,BAR',\n",
       "       'DESSERT PARLOR,FOOD COURT', 'QUICK BITES,FOOD TRUCK',\n",
       "       'BAKERY,BEVERAGE SHOP', 'CLUB,BAR', 'BAKERY,SWEET SHOP',\n",
       "       'SWEET SHOP,BAKERY', 'CASUAL DINING,FOOD COURT', 'PAAN SHOP',\n",
       "       'BEVERAGE SHOP,CAFÉ', 'FOOD COURT,DESSERT PARLOR',\n",
       "       'CLUB,MICROBREWERY', 'CAFÉ,BEVERAGE SHOP',\n",
       "       'DESSERT PARLOR,PAAN SHOP', 'MICROBREWERY,LOUNGE', 'LOUNGE,CLUB',\n",
       "       'SWEET SHOP,DESSERT PARLOR', 'BAR,PUB',\n",
       "       'CONFECTIONERY,QUICK BITES', 'DESSERT PARLOR,KIOSK', 'LOUNGE,PUB',\n",
       "       'SWEET SHOP,BEVERAGE SHOP', 'FINE DINING,CAFÉ',\n",
       "       'BEVERAGE SHOP,CASUAL DINING', 'KIOSK,QUICK BITES',\n",
       "       'CASUAL DINING,DESSERT PARLOR', 'LOUNGE,FINE DINING', 'PUB,CAFÉ',\n",
       "       'CAFÉ,LOUNGE', 'BAR,CLUB', 'COCKTAIL BAR,CASUAL DINING',\n",
       "       'MICROBREWERY,PUB', 'CAFÉ,FINE DINING', 'KIOSK,FOOD COURT',\n",
       "       'LOUNGE,MICROBREWERY', 'BAR,MICROBREWERY',\n",
       "       'FOOD TRUCK,DESSERT PARLOR', 'IRANI CAFE,BAKERY',\n",
       "       'BAKERY,CASUAL DINING', 'PUB,FINE DINING', 'CAFÉ,FOOD COURT',\n",
       "       'FINE DINING,MICROBREWERY', 'CLUB,FINE DINING',\n",
       "       'QUICK BITES,MEAT SHOP', 'CLUB,CASUAL DINING', 'BHOJANALYA'],\n",
       "      dtype=object)"
      ]
     },
     "execution_count": 18,
     "metadata": {},
     "output_type": "execute_result"
    }
   ],
   "source": [
    "res['TITLE'].unique()"
   ]
  },
  {
   "cell_type": "code",
   "execution_count": 19,
   "metadata": {},
   "outputs": [
    {
     "data": {
      "text/plain": [
       "QUICK BITES          5634\n",
       "CASUAL DINING        4910\n",
       "None                 1287\n",
       "CAFÉ                  830\n",
       "DESSERT PARLOR        508\n",
       "                     ... \n",
       "CLUB,MICROBREWERY       1\n",
       "PUB,FINE DINING         1\n",
       "CAFÉ,FOOD COURT         1\n",
       "MEAT SHOP               1\n",
       "BAR,CLUB                1\n",
       "Name: TITLE, Length: 123, dtype: int64"
      ]
     },
     "execution_count": 19,
     "metadata": {},
     "output_type": "execute_result"
    }
   ],
   "source": [
    "res['TITLE'].value_counts()"
   ]
  },
  {
   "cell_type": "code",
   "execution_count": 20,
   "metadata": {},
   "outputs": [],
   "source": [
    "res['TITLE1']=res['TITLE'].str.split(',').str[0]\n",
    "res['TITLE2']=res['TITLE'].str.split(',').str[1]"
   ]
  },
  {
   "cell_type": "code",
   "execution_count": 21,
   "metadata": {},
   "outputs": [
    {
     "data": {
      "text/plain": [
       "array(['49 votes', '30 votes', '221 votes', ..., '2159 votes',\n",
       "       '3807 votes', '1913 votes'], dtype=object)"
      ]
     },
     "execution_count": 21,
     "metadata": {},
     "output_type": "execute_result"
    }
   ],
   "source": [
    "res['VOTES'].unique()"
   ]
  },
  {
   "cell_type": "code",
   "execution_count": 22,
   "metadata": {},
   "outputs": [
    {
     "data": {
      "text/plain": [
       "44 votes      92\n",
       "22 votes      88\n",
       "6 votes       87\n",
       "29 votes      83\n",
       "24 votes      81\n",
       "              ..\n",
       "1210 votes     1\n",
       "2541 votes     1\n",
       "1092 votes     1\n",
       "2235 votes     1\n",
       "2971 votes     1\n",
       "Name: VOTES, Length: 2075, dtype: int64"
      ]
     },
     "execution_count": 22,
     "metadata": {},
     "output_type": "execute_result"
    }
   ],
   "source": [
    "res['VOTES'].value_counts()"
   ]
  },
  {
   "cell_type": "code",
   "execution_count": 23,
   "metadata": {},
   "outputs": [],
   "source": [
    "res['VOTES']=res['VOTES'].str.split(' ').str[0]"
   ]
  },
  {
   "cell_type": "code",
   "execution_count": 24,
   "metadata": {},
   "outputs": [],
   "source": [
    "res['VOTES']=res['VOTES'].astype(float)"
   ]
  },
  {
   "cell_type": "code",
   "execution_count": 25,
   "metadata": {},
   "outputs": [],
   "source": [
    "res['CITY'].fillna(res['CITY'].mode(),inplace=True)\n",
    "res['CUISINES2'].fillna(res['CUISINES2'].mode(),inplace=True)\n",
    "res['CUISINES3'].fillna(res['CUISINES3'].mode(),inplace=True)\n",
    "res['CUISINES4'].fillna(res['CUISINES4'].mode(),inplace=True)\n",
    "res['CUISINES5'].fillna(res['CUISINES5'].mode(),inplace=True)\n",
    "res['LOCALITY'].fillna(res['LOCALITY'].mode(),inplace=True)\n",
    "res[\"RATING\"].fillna(0.5,inplace=True)\n",
    "res['VOTES'].fillna(res['VOTES'].mean(),inplace=True)"
   ]
  },
  {
   "cell_type": "code",
   "execution_count": 26,
   "metadata": {},
   "outputs": [],
   "source": [
    "res.drop(['TIME'],axis=1,inplace=True)\n",
    "res.drop(['RESTAURANT_ID'],axis=1,inplace=True)\n",
    "res.drop(['TITLE'],axis=1,inplace=True)\n",
    "res.drop(['CUISINES'],axis=1,inplace=True)"
   ]
  },
  {
   "cell_type": "code",
   "execution_count": 27,
   "metadata": {},
   "outputs": [
    {
     "data": {
      "text/html": [
       "<div>\n",
       "<style scoped>\n",
       "    .dataframe tbody tr th:only-of-type {\n",
       "        vertical-align: middle;\n",
       "    }\n",
       "\n",
       "    .dataframe tbody tr th {\n",
       "        vertical-align: top;\n",
       "    }\n",
       "\n",
       "    .dataframe thead th {\n",
       "        text-align: right;\n",
       "    }\n",
       "</style>\n",
       "<table border=\"1\" class=\"dataframe\">\n",
       "  <thead>\n",
       "    <tr style=\"text-align: right;\">\n",
       "      <th></th>\n",
       "      <th>CITY</th>\n",
       "      <th>COST</th>\n",
       "      <th>DATA</th>\n",
       "      <th>LOCALITY</th>\n",
       "      <th>RATING</th>\n",
       "      <th>VOTES</th>\n",
       "      <th>CUISINES1</th>\n",
       "      <th>CUISINES2</th>\n",
       "      <th>CUISINES3</th>\n",
       "      <th>CUISINES4</th>\n",
       "      <th>CUISINES5</th>\n",
       "      <th>TITLE1</th>\n",
       "      <th>TITLE2</th>\n",
       "    </tr>\n",
       "  </thead>\n",
       "  <tbody>\n",
       "    <tr>\n",
       "      <td>0</td>\n",
       "      <td>Thane</td>\n",
       "      <td>1200</td>\n",
       "      <td>train</td>\n",
       "      <td>Dombivali East</td>\n",
       "      <td>3.6</td>\n",
       "      <td>49.0</td>\n",
       "      <td>Malwani</td>\n",
       "      <td>Goan</td>\n",
       "      <td>North Indian</td>\n",
       "      <td>Chinese</td>\n",
       "      <td>Beverages</td>\n",
       "      <td>CASUAL DINING</td>\n",
       "      <td>NaN</td>\n",
       "    </tr>\n",
       "    <tr>\n",
       "      <td>1</td>\n",
       "      <td>Chennai</td>\n",
       "      <td>1500</td>\n",
       "      <td>train</td>\n",
       "      <td>Ramapuram</td>\n",
       "      <td>4.2</td>\n",
       "      <td>30.0</td>\n",
       "      <td>Asian</td>\n",
       "      <td>Modern Indian</td>\n",
       "      <td>Japanese</td>\n",
       "      <td>NaN</td>\n",
       "      <td>NaN</td>\n",
       "      <td>CASUAL DINING</td>\n",
       "      <td>BAR</td>\n",
       "    </tr>\n",
       "    <tr>\n",
       "      <td>2</td>\n",
       "      <td>Chennai</td>\n",
       "      <td>800</td>\n",
       "      <td>train</td>\n",
       "      <td>Saligramam</td>\n",
       "      <td>3.8</td>\n",
       "      <td>221.0</td>\n",
       "      <td>North Indian</td>\n",
       "      <td>Chinese</td>\n",
       "      <td>Biryani</td>\n",
       "      <td>Hyderabadi</td>\n",
       "      <td>NaN</td>\n",
       "      <td>CASUAL DINING</td>\n",
       "      <td>NaN</td>\n",
       "    </tr>\n",
       "    <tr>\n",
       "      <td>3</td>\n",
       "      <td>Mumbai</td>\n",
       "      <td>800</td>\n",
       "      <td>train</td>\n",
       "      <td>Bandra West</td>\n",
       "      <td>4.1</td>\n",
       "      <td>24.0</td>\n",
       "      <td>Tibetan</td>\n",
       "      <td>Chinese</td>\n",
       "      <td>NaN</td>\n",
       "      <td>NaN</td>\n",
       "      <td>NaN</td>\n",
       "      <td>QUICK BITES</td>\n",
       "      <td>NaN</td>\n",
       "    </tr>\n",
       "    <tr>\n",
       "      <td>4</td>\n",
       "      <td>Mumbai</td>\n",
       "      <td>300</td>\n",
       "      <td>train</td>\n",
       "      <td>Lower Parel</td>\n",
       "      <td>3.8</td>\n",
       "      <td>165.0</td>\n",
       "      <td>Desserts</td>\n",
       "      <td>NaN</td>\n",
       "      <td>NaN</td>\n",
       "      <td>NaN</td>\n",
       "      <td>NaN</td>\n",
       "      <td>DESSERT PARLOR</td>\n",
       "      <td>NaN</td>\n",
       "    </tr>\n",
       "  </tbody>\n",
       "</table>\n",
       "</div>"
      ],
      "text/plain": [
       "      CITY  COST   DATA        LOCALITY  RATING  VOTES     CUISINES1  \\\n",
       "0    Thane  1200  train  Dombivali East     3.6   49.0       Malwani   \n",
       "1  Chennai  1500  train       Ramapuram     4.2   30.0         Asian   \n",
       "2  Chennai   800  train      Saligramam     3.8  221.0  North Indian   \n",
       "3   Mumbai   800  train     Bandra West     4.1   24.0       Tibetan   \n",
       "4   Mumbai   300  train     Lower Parel     3.8  165.0      Desserts   \n",
       "\n",
       "        CUISINES2      CUISINES3    CUISINES4   CUISINES5          TITLE1  \\\n",
       "0            Goan   North Indian      Chinese   Beverages   CASUAL DINING   \n",
       "1   Modern Indian       Japanese          NaN         NaN   CASUAL DINING   \n",
       "2         Chinese        Biryani   Hyderabadi         NaN   CASUAL DINING   \n",
       "3         Chinese            NaN          NaN         NaN     QUICK BITES   \n",
       "4             NaN            NaN          NaN         NaN  DESSERT PARLOR   \n",
       "\n",
       "  TITLE2  \n",
       "0    NaN  \n",
       "1    BAR  \n",
       "2    NaN  \n",
       "3    NaN  \n",
       "4    NaN  "
      ]
     },
     "execution_count": 27,
     "metadata": {},
     "output_type": "execute_result"
    }
   ],
   "source": [
    "res.head()"
   ]
  },
  {
   "cell_type": "code",
   "execution_count": 28,
   "metadata": {},
   "outputs": [
    {
     "data": {
      "text/plain": [
       "Index(['CITY', 'COST', 'DATA', 'LOCALITY', 'RATING', 'VOTES', 'CUISINES1',\n",
       "       'CUISINES2', 'CUISINES3', 'CUISINES4', 'CUISINES5', 'TITLE1', 'TITLE2'],\n",
       "      dtype='object')"
      ]
     },
     "execution_count": 28,
     "metadata": {},
     "output_type": "execute_result"
    }
   ],
   "source": [
    "res.columns"
   ]
  },
  {
   "cell_type": "code",
   "execution_count": 32,
   "metadata": {},
   "outputs": [],
   "source": [
    "from sklearn.preprocessing import LabelEncoder\n",
    "le=LabelEncoder()\n",
    "cat=['CITY','LOCALITY','CUISINES1', 'CUISINES2', 'CUISINES3', 'CUISINES4',\n",
    "       'CUISINES5','TITLE1', 'TITLE2']\n",
    "for val in cat:\n",
    "    le=LabelEncoder()\n",
    "    res[val]=le.fit_transform(res[val].astype(\"str\"))"
   ]
  },
  {
   "cell_type": "code",
   "execution_count": 33,
   "metadata": {},
   "outputs": [],
   "source": [
    "res['VOTES']=(res['VOTES']-res['VOTES'].min())/(res['VOTES'].max()-res['VOTES'].min())\n",
    "res['CITY']=(res['CITY']-res['CITY'].min())/(res['CITY'].max()-res['CITY'].min())\n",
    "res['COST']=(res['COST']-res['COST'].min())/(res['COST'].max()-res['COST'].min())\n",
    "res['LOCALITY']=(res['LOCALITY']-res['LOCALITY'].min())/(res['LOCALITY'].max()-res['LOCALITY'].min())"
   ]
  },
  {
   "cell_type": "code",
   "execution_count": 35,
   "metadata": {},
   "outputs": [
    {
     "data": {
      "text/html": [
       "<div>\n",
       "<style scoped>\n",
       "    .dataframe tbody tr th:only-of-type {\n",
       "        vertical-align: middle;\n",
       "    }\n",
       "\n",
       "    .dataframe tbody tr th {\n",
       "        vertical-align: top;\n",
       "    }\n",
       "\n",
       "    .dataframe thead th {\n",
       "        text-align: right;\n",
       "    }\n",
       "</style>\n",
       "<table border=\"1\" class=\"dataframe\">\n",
       "  <thead>\n",
       "    <tr style=\"text-align: right;\">\n",
       "      <th></th>\n",
       "      <th>CITY</th>\n",
       "      <th>COST</th>\n",
       "      <th>DATA</th>\n",
       "      <th>LOCALITY</th>\n",
       "      <th>RATING</th>\n",
       "      <th>VOTES</th>\n",
       "      <th>CUISINES1</th>\n",
       "      <th>CUISINES2</th>\n",
       "      <th>CUISINES3</th>\n",
       "      <th>CUISINES4</th>\n",
       "      <th>CUISINES5</th>\n",
       "      <th>TITLE1</th>\n",
       "      <th>TITLE2</th>\n",
       "    </tr>\n",
       "  </thead>\n",
       "  <tbody>\n",
       "    <tr>\n",
       "      <td>0</td>\n",
       "      <td>0.888889</td>\n",
       "      <td>0.085714</td>\n",
       "      <td>train</td>\n",
       "      <td>0.200489</td>\n",
       "      <td>3.6</td>\n",
       "      <td>0.001117</td>\n",
       "      <td>64</td>\n",
       "      <td>27</td>\n",
       "      <td>70</td>\n",
       "      <td>11</td>\n",
       "      <td>2</td>\n",
       "      <td>20</td>\n",
       "      <td>13</td>\n",
       "    </tr>\n",
       "    <tr>\n",
       "      <td>1</td>\n",
       "      <td>0.166667</td>\n",
       "      <td>0.107143</td>\n",
       "      <td>train</td>\n",
       "      <td>0.742054</td>\n",
       "      <td>4.2</td>\n",
       "      <td>0.000656</td>\n",
       "      <td>62</td>\n",
       "      <td>60</td>\n",
       "      <td>41</td>\n",
       "      <td>88</td>\n",
       "      <td>82</td>\n",
       "      <td>20</td>\n",
       "      <td>1</td>\n",
       "    </tr>\n",
       "    <tr>\n",
       "      <td>2</td>\n",
       "      <td>0.166667</td>\n",
       "      <td>0.057143</td>\n",
       "      <td>train</td>\n",
       "      <td>0.777506</td>\n",
       "      <td>3.8</td>\n",
       "      <td>0.005293</td>\n",
       "      <td>78</td>\n",
       "      <td>17</td>\n",
       "      <td>7</td>\n",
       "      <td>28</td>\n",
       "      <td>82</td>\n",
       "      <td>20</td>\n",
       "      <td>13</td>\n",
       "    </tr>\n",
       "    <tr>\n",
       "      <td>3</td>\n",
       "      <td>0.615556</td>\n",
       "      <td>0.057143</td>\n",
       "      <td>train</td>\n",
       "      <td>0.098411</td>\n",
       "      <td>4.1</td>\n",
       "      <td>0.000510</td>\n",
       "      <td>5</td>\n",
       "      <td>17</td>\n",
       "      <td>3</td>\n",
       "      <td>88</td>\n",
       "      <td>82</td>\n",
       "      <td>16</td>\n",
       "      <td>13</td>\n",
       "    </tr>\n",
       "    <tr>\n",
       "      <td>4</td>\n",
       "      <td>0.615556</td>\n",
       "      <td>0.021429</td>\n",
       "      <td>train</td>\n",
       "      <td>0.433374</td>\n",
       "      <td>3.8</td>\n",
       "      <td>0.003934</td>\n",
       "      <td>30</td>\n",
       "      <td>3</td>\n",
       "      <td>3</td>\n",
       "      <td>88</td>\n",
       "      <td>82</td>\n",
       "      <td>24</td>\n",
       "      <td>13</td>\n",
       "    </tr>\n",
       "    <tr>\n",
       "      <td>5</td>\n",
       "      <td>0.615556</td>\n",
       "      <td>0.057143</td>\n",
       "      <td>train</td>\n",
       "      <td>0.959658</td>\n",
       "      <td>4.0</td>\n",
       "      <td>0.013282</td>\n",
       "      <td>78</td>\n",
       "      <td>17</td>\n",
       "      <td>83</td>\n",
       "      <td>3</td>\n",
       "      <td>82</td>\n",
       "      <td>20</td>\n",
       "      <td>13</td>\n",
       "    </tr>\n",
       "    <tr>\n",
       "      <td>6</td>\n",
       "      <td>0.093333</td>\n",
       "      <td>0.042857</td>\n",
       "      <td>train</td>\n",
       "      <td>0.402812</td>\n",
       "      <td>4.1</td>\n",
       "      <td>0.012287</td>\n",
       "      <td>21</td>\n",
       "      <td>17</td>\n",
       "      <td>76</td>\n",
       "      <td>61</td>\n",
       "      <td>5</td>\n",
       "      <td>19</td>\n",
       "      <td>13</td>\n",
       "    </tr>\n",
       "    <tr>\n",
       "      <td>7</td>\n",
       "      <td>0.324444</td>\n",
       "      <td>0.114286</td>\n",
       "      <td>train</td>\n",
       "      <td>0.811736</td>\n",
       "      <td>4.3</td>\n",
       "      <td>0.039070</td>\n",
       "      <td>9</td>\n",
       "      <td>3</td>\n",
       "      <td>3</td>\n",
       "      <td>88</td>\n",
       "      <td>82</td>\n",
       "      <td>11</td>\n",
       "      <td>13</td>\n",
       "    </tr>\n",
       "    <tr>\n",
       "      <td>8</td>\n",
       "      <td>0.093333</td>\n",
       "      <td>0.021429</td>\n",
       "      <td>train</td>\n",
       "      <td>0.103301</td>\n",
       "      <td>3.9</td>\n",
       "      <td>0.002380</td>\n",
       "      <td>98</td>\n",
       "      <td>66</td>\n",
       "      <td>3</td>\n",
       "      <td>88</td>\n",
       "      <td>82</td>\n",
       "      <td>16</td>\n",
       "      <td>13</td>\n",
       "    </tr>\n",
       "    <tr>\n",
       "      <td>9</td>\n",
       "      <td>0.355556</td>\n",
       "      <td>0.014286</td>\n",
       "      <td>train</td>\n",
       "      <td>0.198655</td>\n",
       "      <td>3.3</td>\n",
       "      <td>0.005245</td>\n",
       "      <td>78</td>\n",
       "      <td>3</td>\n",
       "      <td>3</td>\n",
       "      <td>88</td>\n",
       "      <td>82</td>\n",
       "      <td>16</td>\n",
       "      <td>13</td>\n",
       "    </tr>\n",
       "  </tbody>\n",
       "</table>\n",
       "</div>"
      ],
      "text/plain": [
       "       CITY      COST   DATA  LOCALITY  RATING     VOTES  CUISINES1  \\\n",
       "0  0.888889  0.085714  train  0.200489     3.6  0.001117         64   \n",
       "1  0.166667  0.107143  train  0.742054     4.2  0.000656         62   \n",
       "2  0.166667  0.057143  train  0.777506     3.8  0.005293         78   \n",
       "3  0.615556  0.057143  train  0.098411     4.1  0.000510          5   \n",
       "4  0.615556  0.021429  train  0.433374     3.8  0.003934         30   \n",
       "5  0.615556  0.057143  train  0.959658     4.0  0.013282         78   \n",
       "6  0.093333  0.042857  train  0.402812     4.1  0.012287         21   \n",
       "7  0.324444  0.114286  train  0.811736     4.3  0.039070          9   \n",
       "8  0.093333  0.021429  train  0.103301     3.9  0.002380         98   \n",
       "9  0.355556  0.014286  train  0.198655     3.3  0.005245         78   \n",
       "\n",
       "   CUISINES2  CUISINES3  CUISINES4  CUISINES5  TITLE1  TITLE2  \n",
       "0         27         70         11          2      20      13  \n",
       "1         60         41         88         82      20       1  \n",
       "2         17          7         28         82      20      13  \n",
       "3         17          3         88         82      16      13  \n",
       "4          3          3         88         82      24      13  \n",
       "5         17         83          3         82      20      13  \n",
       "6         17         76         61          5      19      13  \n",
       "7          3          3         88         82      11      13  \n",
       "8         66          3         88         82      16      13  \n",
       "9          3          3         88         82      16      13  "
      ]
     },
     "execution_count": 35,
     "metadata": {},
     "output_type": "execute_result"
    }
   ],
   "source": [
    "res.head(10)"
   ]
  },
  {
   "cell_type": "code",
   "execution_count": 31,
   "metadata": {},
   "outputs": [
    {
     "data": {
      "text/plain": [
       "<function matplotlib.pyplot.show(*args, **kw)>"
      ]
     },
     "execution_count": 31,
     "metadata": {},
     "output_type": "execute_result"
    },
    {
     "data": {
      "image/png": "[encoded data removed]",
      "text/plain": [
       "<Figure size 1080x720 with 1 Axes>"
      ]
     },
     "metadata": {},
     "output_type": "display_data"
    }
   ],
   "source": [
    "sns.set(rc={\"figure.figsize\":(15,10)})\n",
    "sns.lineplot(x=\"RATING\",y=\"COST\",data=res)\n",
    "plt.show"
   ]
  },
  {
   "cell_type": "code",
   "execution_count": 36,
   "metadata": {},
   "outputs": [
    {
     "data": {
      "text/plain": [
       "<function matplotlib.pyplot.show(*args, **kw)>"
      ]
     },
     "execution_count": 36,
     "metadata": {},
     "output_type": "execute_result"
    },
    {
     "data": {
      "image/png": "[encoded data removed]",
      "text/plain": [
       "<Figure size 1080x720 with 1 Axes>"
      ]
     },
     "metadata": {},
     "output_type": "display_data"
    }
   ],
   "source": [
    "sns.set(rc={\"figure.figsize\":(15,10)})\n",
    "sns.lineplot(x=\"RATING\",y=\"VOTES\",data=res)\n",
    "plt.show"
   ]
  },
  {
   "cell_type": "code",
   "execution_count": 37,
   "metadata": {},
   "outputs": [
    {
     "data": {
      "text/plain": [
       "<matplotlib.axes._subplots.AxesSubplot at 0x237f78f10c8>"
      ]
     },
     "execution_count": 37,
     "metadata": {},
     "output_type": "execute_result"
    },
    {
     "data": {
      "image/png": "[encoded data removed]",
      "text/plain": [
       "<Figure size 1080x720 with 1 Axes>"
      ]
     },
     "metadata": {},
     "output_type": "display_data"
    }
   ],
   "source": [
    "sns.distplot(res[\"COST\"])"
   ]
  },
  {
   "cell_type": "code",
   "execution_count": 38,
   "metadata": {},
   "outputs": [
    {
     "data": {
      "text/html": [
       "<div>\n",
       "<style scoped>\n",
       "    .dataframe tbody tr th:only-of-type {\n",
       "        vertical-align: middle;\n",
       "    }\n",
       "\n",
       "    .dataframe tbody tr th {\n",
       "        vertical-align: top;\n",
       "    }\n",
       "\n",
       "    .dataframe thead th {\n",
       "        text-align: right;\n",
       "    }\n",
       "</style>\n",
       "<table border=\"1\" class=\"dataframe\">\n",
       "  <thead>\n",
       "    <tr style=\"text-align: right;\">\n",
       "      <th></th>\n",
       "      <th>CITY</th>\n",
       "      <th>COST</th>\n",
       "      <th>LOCALITY</th>\n",
       "      <th>RATING</th>\n",
       "      <th>VOTES</th>\n",
       "      <th>CUISINES1</th>\n",
       "      <th>CUISINES2</th>\n",
       "      <th>CUISINES3</th>\n",
       "      <th>CUISINES4</th>\n",
       "      <th>CUISINES5</th>\n",
       "      <th>TITLE1</th>\n",
       "      <th>TITLE2</th>\n",
       "    </tr>\n",
       "  </thead>\n",
       "  <tbody>\n",
       "    <tr>\n",
       "      <td>0</td>\n",
       "      <td>0.888889</td>\n",
       "      <td>0.085714</td>\n",
       "      <td>0.200489</td>\n",
       "      <td>3.6</td>\n",
       "      <td>0.001117</td>\n",
       "      <td>64</td>\n",
       "      <td>27</td>\n",
       "      <td>70</td>\n",
       "      <td>11</td>\n",
       "      <td>2</td>\n",
       "      <td>20</td>\n",
       "      <td>13</td>\n",
       "    </tr>\n",
       "    <tr>\n",
       "      <td>1</td>\n",
       "      <td>0.166667</td>\n",
       "      <td>0.107143</td>\n",
       "      <td>0.742054</td>\n",
       "      <td>4.2</td>\n",
       "      <td>0.000656</td>\n",
       "      <td>62</td>\n",
       "      <td>60</td>\n",
       "      <td>41</td>\n",
       "      <td>88</td>\n",
       "      <td>82</td>\n",
       "      <td>20</td>\n",
       "      <td>1</td>\n",
       "    </tr>\n",
       "    <tr>\n",
       "      <td>2</td>\n",
       "      <td>0.166667</td>\n",
       "      <td>0.057143</td>\n",
       "      <td>0.777506</td>\n",
       "      <td>3.8</td>\n",
       "      <td>0.005293</td>\n",
       "      <td>78</td>\n",
       "      <td>17</td>\n",
       "      <td>7</td>\n",
       "      <td>28</td>\n",
       "      <td>82</td>\n",
       "      <td>20</td>\n",
       "      <td>13</td>\n",
       "    </tr>\n",
       "    <tr>\n",
       "      <td>3</td>\n",
       "      <td>0.615556</td>\n",
       "      <td>0.057143</td>\n",
       "      <td>0.098411</td>\n",
       "      <td>4.1</td>\n",
       "      <td>0.000510</td>\n",
       "      <td>5</td>\n",
       "      <td>17</td>\n",
       "      <td>3</td>\n",
       "      <td>88</td>\n",
       "      <td>82</td>\n",
       "      <td>16</td>\n",
       "      <td>13</td>\n",
       "    </tr>\n",
       "    <tr>\n",
       "      <td>4</td>\n",
       "      <td>0.615556</td>\n",
       "      <td>0.021429</td>\n",
       "      <td>0.433374</td>\n",
       "      <td>3.8</td>\n",
       "      <td>0.003934</td>\n",
       "      <td>30</td>\n",
       "      <td>3</td>\n",
       "      <td>3</td>\n",
       "      <td>88</td>\n",
       "      <td>82</td>\n",
       "      <td>24</td>\n",
       "      <td>13</td>\n",
       "    </tr>\n",
       "  </tbody>\n",
       "</table>\n",
       "</div>"
      ],
      "text/plain": [
       "       CITY      COST  LOCALITY  RATING     VOTES  CUISINES1  CUISINES2  \\\n",
       "0  0.888889  0.085714  0.200489     3.6  0.001117         64         27   \n",
       "1  0.166667  0.107143  0.742054     4.2  0.000656         62         60   \n",
       "2  0.166667  0.057143  0.777506     3.8  0.005293         78         17   \n",
       "3  0.615556  0.057143  0.098411     4.1  0.000510          5         17   \n",
       "4  0.615556  0.021429  0.433374     3.8  0.003934         30          3   \n",
       "\n",
       "   CUISINES3  CUISINES4  CUISINES5  TITLE1  TITLE2  \n",
       "0         70         11          2      20      13  \n",
       "1         41         88         82      20       1  \n",
       "2          7         28         82      20      13  \n",
       "3          3         88         82      16      13  \n",
       "4          3         88         82      24      13  "
      ]
     },
     "execution_count": 38,
     "metadata": {},
     "output_type": "execute_result"
    }
   ],
   "source": [
    "final_train=res.loc[res['DATA']=='train']\n",
    "final_train.drop(['DATA'],axis=1,inplace=True)\n",
    "final_train.head()"
   ]
  },
  {
   "cell_type": "code",
   "execution_count": 39,
   "metadata": {},
   "outputs": [
    {
     "data": {
      "text/html": [
       "<div>\n",
       "<style scoped>\n",
       "    .dataframe tbody tr th:only-of-type {\n",
       "        vertical-align: middle;\n",
       "    }\n",
       "\n",
       "    .dataframe tbody tr th {\n",
       "        vertical-align: top;\n",
       "    }\n",
       "\n",
       "    .dataframe thead th {\n",
       "        text-align: right;\n",
       "    }\n",
       "</style>\n",
       "<table border=\"1\" class=\"dataframe\">\n",
       "  <thead>\n",
       "    <tr style=\"text-align: right;\">\n",
       "      <th></th>\n",
       "      <th>CITY</th>\n",
       "      <th>LOCALITY</th>\n",
       "      <th>RATING</th>\n",
       "      <th>VOTES</th>\n",
       "      <th>CUISINES1</th>\n",
       "      <th>CUISINES2</th>\n",
       "      <th>CUISINES3</th>\n",
       "      <th>CUISINES4</th>\n",
       "      <th>CUISINES5</th>\n",
       "      <th>TITLE1</th>\n",
       "      <th>TITLE2</th>\n",
       "    </tr>\n",
       "  </thead>\n",
       "  <tbody>\n",
       "    <tr>\n",
       "      <td>0</td>\n",
       "      <td>0.717778</td>\n",
       "      <td>0.803178</td>\n",
       "      <td>4.3</td>\n",
       "      <td>0.013622</td>\n",
       "      <td>78</td>\n",
       "      <td>17</td>\n",
       "      <td>65</td>\n",
       "      <td>38</td>\n",
       "      <td>2</td>\n",
       "      <td>20</td>\n",
       "      <td>13</td>\n",
       "    </tr>\n",
       "    <tr>\n",
       "      <td>1</td>\n",
       "      <td>0.615556</td>\n",
       "      <td>0.262225</td>\n",
       "      <td>4.2</td>\n",
       "      <td>0.001408</td>\n",
       "      <td>98</td>\n",
       "      <td>22</td>\n",
       "      <td>76</td>\n",
       "      <td>61</td>\n",
       "      <td>82</td>\n",
       "      <td>16</td>\n",
       "      <td>13</td>\n",
       "    </tr>\n",
       "    <tr>\n",
       "      <td>2</td>\n",
       "      <td>0.615556</td>\n",
       "      <td>0.473105</td>\n",
       "      <td>3.8</td>\n",
       "      <td>0.008426</td>\n",
       "      <td>78</td>\n",
       "      <td>83</td>\n",
       "      <td>7</td>\n",
       "      <td>11</td>\n",
       "      <td>82</td>\n",
       "      <td>20</td>\n",
       "      <td>13</td>\n",
       "    </tr>\n",
       "    <tr>\n",
       "      <td>3</td>\n",
       "      <td>0.284444</td>\n",
       "      <td>0.517115</td>\n",
       "      <td>3.8</td>\n",
       "      <td>0.035014</td>\n",
       "      <td>13</td>\n",
       "      <td>3</td>\n",
       "      <td>3</td>\n",
       "      <td>88</td>\n",
       "      <td>82</td>\n",
       "      <td>13</td>\n",
       "      <td>13</td>\n",
       "    </tr>\n",
       "    <tr>\n",
       "      <td>4</td>\n",
       "      <td>0.480000</td>\n",
       "      <td>0.348411</td>\n",
       "      <td>3.6</td>\n",
       "      <td>0.000486</td>\n",
       "      <td>98</td>\n",
       "      <td>44</td>\n",
       "      <td>3</td>\n",
       "      <td>88</td>\n",
       "      <td>82</td>\n",
       "      <td>16</td>\n",
       "      <td>13</td>\n",
       "    </tr>\n",
       "  </tbody>\n",
       "</table>\n",
       "</div>"
      ],
      "text/plain": [
       "       CITY  LOCALITY  RATING     VOTES  CUISINES1  CUISINES2  CUISINES3  \\\n",
       "0  0.717778  0.803178     4.3  0.013622         78         17         65   \n",
       "1  0.615556  0.262225     4.2  0.001408         98         22         76   \n",
       "2  0.615556  0.473105     3.8  0.008426         78         83          7   \n",
       "3  0.284444  0.517115     3.8  0.035014         13          3          3   \n",
       "4  0.480000  0.348411     3.6  0.000486         98         44          3   \n",
       "\n",
       "   CUISINES4  CUISINES5  TITLE1  TITLE2  \n",
       "0         38          2      20      13  \n",
       "1         61         82      16      13  \n",
       "2         11         82      20      13  \n",
       "3         88         82      13      13  \n",
       "4         88         82      16      13  "
      ]
     },
     "execution_count": 39,
     "metadata": {},
     "output_type": "execute_result"
    }
   ],
   "source": [
    "final_test=res.loc[res['DATA']=='test']\n",
    "final_test.drop(['COST'],axis=1,inplace=True)\n",
    "final_test.drop(['DATA'],axis=1,inplace=True)\n",
    "final_test.head()"
   ]
  },
  {
   "cell_type": "code",
   "execution_count": 40,
   "metadata": {},
   "outputs": [
    {
     "data": {
      "text/html": [
       "<div>\n",
       "<style scoped>\n",
       "    .dataframe tbody tr th:only-of-type {\n",
       "        vertical-align: middle;\n",
       "    }\n",
       "\n",
       "    .dataframe tbody tr th {\n",
       "        vertical-align: top;\n",
       "    }\n",
       "\n",
       "    .dataframe thead th {\n",
       "        text-align: right;\n",
       "    }\n",
       "</style>\n",
       "<table border=\"1\" class=\"dataframe\">\n",
       "  <thead>\n",
       "    <tr style=\"text-align: right;\">\n",
       "      <th></th>\n",
       "      <th>CITY</th>\n",
       "      <th>LOCALITY</th>\n",
       "      <th>RATING</th>\n",
       "      <th>VOTES</th>\n",
       "      <th>CUISINES1</th>\n",
       "      <th>CUISINES2</th>\n",
       "      <th>CUISINES3</th>\n",
       "      <th>CUISINES4</th>\n",
       "      <th>CUISINES5</th>\n",
       "      <th>TITLE1</th>\n",
       "      <th>TITLE2</th>\n",
       "    </tr>\n",
       "  </thead>\n",
       "  <tbody>\n",
       "    <tr>\n",
       "      <td>0</td>\n",
       "      <td>0.888889</td>\n",
       "      <td>0.200489</td>\n",
       "      <td>3.6</td>\n",
       "      <td>0.001117</td>\n",
       "      <td>64</td>\n",
       "      <td>27</td>\n",
       "      <td>70</td>\n",
       "      <td>11</td>\n",
       "      <td>2</td>\n",
       "      <td>20</td>\n",
       "      <td>13</td>\n",
       "    </tr>\n",
       "    <tr>\n",
       "      <td>1</td>\n",
       "      <td>0.166667</td>\n",
       "      <td>0.742054</td>\n",
       "      <td>4.2</td>\n",
       "      <td>0.000656</td>\n",
       "      <td>62</td>\n",
       "      <td>60</td>\n",
       "      <td>41</td>\n",
       "      <td>88</td>\n",
       "      <td>82</td>\n",
       "      <td>20</td>\n",
       "      <td>1</td>\n",
       "    </tr>\n",
       "    <tr>\n",
       "      <td>2</td>\n",
       "      <td>0.166667</td>\n",
       "      <td>0.777506</td>\n",
       "      <td>3.8</td>\n",
       "      <td>0.005293</td>\n",
       "      <td>78</td>\n",
       "      <td>17</td>\n",
       "      <td>7</td>\n",
       "      <td>28</td>\n",
       "      <td>82</td>\n",
       "      <td>20</td>\n",
       "      <td>13</td>\n",
       "    </tr>\n",
       "    <tr>\n",
       "      <td>3</td>\n",
       "      <td>0.615556</td>\n",
       "      <td>0.098411</td>\n",
       "      <td>4.1</td>\n",
       "      <td>0.000510</td>\n",
       "      <td>5</td>\n",
       "      <td>17</td>\n",
       "      <td>3</td>\n",
       "      <td>88</td>\n",
       "      <td>82</td>\n",
       "      <td>16</td>\n",
       "      <td>13</td>\n",
       "    </tr>\n",
       "    <tr>\n",
       "      <td>4</td>\n",
       "      <td>0.615556</td>\n",
       "      <td>0.433374</td>\n",
       "      <td>3.8</td>\n",
       "      <td>0.003934</td>\n",
       "      <td>30</td>\n",
       "      <td>3</td>\n",
       "      <td>3</td>\n",
       "      <td>88</td>\n",
       "      <td>82</td>\n",
       "      <td>24</td>\n",
       "      <td>13</td>\n",
       "    </tr>\n",
       "  </tbody>\n",
       "</table>\n",
       "</div>"
      ],
      "text/plain": [
       "       CITY  LOCALITY  RATING     VOTES  CUISINES1  CUISINES2  CUISINES3  \\\n",
       "0  0.888889  0.200489     3.6  0.001117         64         27         70   \n",
       "1  0.166667  0.742054     4.2  0.000656         62         60         41   \n",
       "2  0.166667  0.777506     3.8  0.005293         78         17          7   \n",
       "3  0.615556  0.098411     4.1  0.000510          5         17          3   \n",
       "4  0.615556  0.433374     3.8  0.003934         30          3          3   \n",
       "\n",
       "   CUISINES4  CUISINES5  TITLE1  TITLE2  \n",
       "0         11          2      20      13  \n",
       "1         88         82      20       1  \n",
       "2         28         82      20      13  \n",
       "3         88         82      16      13  \n",
       "4         88         82      24      13  "
      ]
     },
     "execution_count": 40,
     "metadata": {},
     "output_type": "execute_result"
    }
   ],
   "source": [
    "X=final_train.drop(['COST'],axis=1)\n",
    "X.head()"
   ]
  },
  {
   "cell_type": "code",
   "execution_count": 41,
   "metadata": {},
   "outputs": [
    {
     "data": {
      "text/plain": [
       "0    0.085714\n",
       "1    0.107143\n",
       "2    0.057143\n",
       "3    0.057143\n",
       "4    0.021429\n",
       "Name: COST, dtype: float64"
      ]
     },
     "execution_count": 41,
     "metadata": {},
     "output_type": "execute_result"
    }
   ],
   "source": [
    "y=final_train['COST']\n",
    "y.head()"
   ]
  },
  {
   "cell_type": "code",
   "execution_count": 42,
   "metadata": {},
   "outputs": [],
   "source": [
    "from sklearn.preprocessing import StandardScaler\n",
    "ss=StandardScaler()\n",
    "X=ss.fit_transform(X)"
   ]
  },
  {
   "cell_type": "code",
   "execution_count": 43,
   "metadata": {},
   "outputs": [],
   "source": [
    "X_train,X_test,y_train,y_test=train_test_split(X,y,test_size=0.3,random_state=97)"
   ]
  },
  {
   "cell_type": "code",
   "execution_count": 44,
   "metadata": {},
   "outputs": [
    {
     "name": "stdout",
     "output_type": "stream",
     "text": [
      "(8883, 11) (3807, 11)\n",
      "(8883,) (3807,)\n"
     ]
    }
   ],
   "source": [
    "print(X_train.shape,X_test.shape)\n",
    "print(y_train.shape,y_test.shape)"
   ]
  },
  {
   "cell_type": "code",
   "execution_count": 45,
   "metadata": {},
   "outputs": [],
   "source": [
    "lr=LinearRegression()\n",
    "la=Lasso()\n",
    "en=ElasticNet()\n",
    "ri=Ridge()\n",
    "kn=KNeighborsRegressor()\n",
    "dt=DecisionTreeRegressor(random_state=97)\n",
    "ab=AdaBoostRegressor(random_state=97)\n",
    "rf=RandomForestRegressor(random_state=97)\n",
    "gb=GradientBoostingRegressor(random_state=97)"
   ]
  },
  {
   "cell_type": "code",
   "execution_count": 46,
   "metadata": {},
   "outputs": [],
   "source": [
    "models=[]\n",
    "models.append((\"LinearRegression\",lr))\n",
    "models.append((\"Lasso\",la))\n",
    "models.append((\"ElasticNet\",en))\n",
    "models.append((\"Ridge\",ri))\n",
    "models.append((\"KNeighborsRegressor\",kn))\n",
    "models.append((\"DecisionTreeRegressor\",dt))\n",
    "models.append((\"AdaBoostRegressor\",ab))\n",
    "models.append((\"RandomForestRegressor\",rf))\n",
    "models.append((\"GradientBoostingRegressor\",gb))"
   ]
  },
  {
   "cell_type": "code",
   "execution_count": 47,
   "metadata": {},
   "outputs": [
    {
     "name": "stdout",
     "output_type": "stream",
     "text": [
      "------------------- LinearRegression(copy_X=True, fit_intercept=True, n_jobs=None, normalize=False) ----------------------\n",
      "\n",
      "\n",
      "R2_score:  0.20636042112594666\n",
      "MSE:  0.0017063343734144362\n",
      "Cross Validation:  0.21530461143968763\n",
      "\n",
      "\n",
      "------------------- Lasso(alpha=1.0, copy_X=True, fit_intercept=True, max_iter=1000,\n",
      "      normalize=False, positive=False, precompute=False, random_state=None,\n",
      "      selection='cyclic', tol=0.0001, warm_start=False) ----------------------\n",
      "\n",
      "\n",
      "R2_score:  -1.8232330960099574e-05\n",
      "MSE:  0.0021500508912223144\n",
      "Cross Validation:  -0.0004793445041730626\n",
      "\n",
      "\n",
      "------------------- ElasticNet(alpha=1.0, copy_X=True, fit_intercept=True, l1_ratio=0.5,\n",
      "           max_iter=1000, normalize=False, positive=False, precompute=False,\n",
      "           random_state=None, selection='cyclic', tol=0.0001, warm_start=False) ----------------------\n",
      "\n",
      "\n",
      "R2_score:  -1.8232330960099574e-05\n",
      "MSE:  0.0021500508912223144\n",
      "Cross Validation:  -0.0004793445041730626\n",
      "\n",
      "\n",
      "------------------- Ridge(alpha=1.0, copy_X=True, fit_intercept=True, max_iter=None,\n",
      "      normalize=False, random_state=None, solver='auto', tol=0.001) ----------------------\n",
      "\n",
      "\n",
      "R2_score:  0.2063607028287534\n",
      "MSE:  0.001706333767750108\n",
      "Cross Validation:  0.21530667975192652\n",
      "\n",
      "\n",
      "------------------- KNeighborsRegressor(algorithm='auto', leaf_size=30, metric='minkowski',\n",
      "                    metric_params=None, n_jobs=None, n_neighbors=5, p=2,\n",
      "                    weights='uniform') ----------------------\n",
      "\n",
      "\n",
      "R2_score:  0.4095308788177354\n",
      "MSE:  0.0012695155140101744\n",
      "Cross Validation:  0.4657539726614046\n",
      "\n",
      "\n",
      "------------------- DecisionTreeRegressor(criterion='mse', max_depth=None, max_features=None,\n",
      "                      max_leaf_nodes=None, min_impurity_decrease=0.0,\n",
      "                      min_impurity_split=None, min_samples_leaf=1,\n",
      "                      min_samples_split=2, min_weight_fraction_leaf=0.0,\n",
      "                      presort=False, random_state=97, splitter='best') ----------------------\n",
      "\n",
      "\n",
      "R2_score:  0.44741819825353024\n",
      "MSE:  0.001188057334263712\n",
      "Cross Validation:  0.39332919570593206\n",
      "\n",
      "\n",
      "------------------- AdaBoostRegressor(base_estimator=None, learning_rate=1.0, loss='linear',\n",
      "                  n_estimators=50, random_state=97) ----------------------\n",
      "\n",
      "\n",
      "R2_score:  -0.3518990379784852\n",
      "MSE:  0.0029065987373780838\n",
      "Cross Validation:  -0.6156169720339797\n",
      "\n",
      "\n",
      "------------------- RandomForestRegressor(bootstrap=True, criterion='mse', max_depth=None,\n",
      "                      max_features='auto', max_leaf_nodes=None,\n",
      "                      min_impurity_decrease=0.0, min_impurity_split=None,\n",
      "                      min_samples_leaf=1, min_samples_split=2,\n",
      "                      min_weight_fraction_leaf=0.0, n_estimators='warn',\n",
      "                      n_jobs=None, oob_score=False, random_state=97, verbose=0,\n",
      "                      warm_start=False) ----------------------\n",
      "\n",
      "\n",
      "R2_score:  0.6339597028895234\n",
      "MSE:  0.0007869909183467753\n",
      "Cross Validation:  0.6882603735496382\n",
      "\n",
      "\n",
      "------------------- GradientBoostingRegressor(alpha=0.9, criterion='friedman_mse', init=None,\n",
      "                          learning_rate=0.1, loss='ls', max_depth=3,\n",
      "                          max_features=None, max_leaf_nodes=None,\n",
      "                          min_impurity_decrease=0.0, min_impurity_split=None,\n",
      "                          min_samples_leaf=1, min_samples_split=2,\n",
      "                          min_weight_fraction_leaf=0.0, n_estimators=100,\n",
      "                          n_iter_no_change=None, presort='auto',\n",
      "                          random_state=97, subsample=1.0, tol=0.0001,\n",
      "                          validation_fraction=0.1, verbose=0, warm_start=False) ----------------------\n",
      "\n",
      "\n",
      "R2_score:  0.6549671956487098\n",
      "MSE:  0.0007418245633054734\n",
      "Cross Validation:  0.7044609200084067\n",
      "\n",
      "\n"
     ]
    }
   ],
   "source": [
    "model=[]\n",
    "R2_score=[]\n",
    "cvs=[]\n",
    "MSE=[]\n",
    "for i,model in models:\n",
    "    print(\"-------------------\",model,\"----------------------\")\n",
    "    print(\"\\n\")\n",
    "    model.fit(X_train,y_train)\n",
    "    pred=model.predict(X_test)\n",
    "    r2=r2_score(y_test,pred)\n",
    "    print(\"R2_score: \",r2)\n",
    "    R2_score.append(r2)\n",
    "    mse=mean_squared_error(y_test,pred)\n",
    "    print(\"MSE: \",mse)\n",
    "    MSE.append(mse)\n",
    "    score=cross_val_score(model,X,y,cv=10,scoring='r2').mean()\n",
    "    print(\"Cross Validation: \",score)\n",
    "    cvs.append(score)\n",
    "    print(\"\\n\")"
   ]
  },
  {
   "cell_type": "markdown",
   "metadata": {},
   "source": [
    "I Choose GradientBoostingRegressor as my final model because it perform very well on our dataset and also has high R2 score,\n",
    "less Mean_Squared_Error and Good Cross_val_score.\n",
    "\n",
    "R2_score:  0.6549671956487098\n",
    "\n",
    "MSE:  0.0007418245633054734\n",
    "\n",
    "Cross Validation:  0.7044609200084067\n",
    "\n"
   ]
  },
  {
   "cell_type": "code",
   "execution_count": 48,
   "metadata": {},
   "outputs": [
    {
     "data": {
      "text/plain": [
       "['res_joblib']"
      ]
     },
     "execution_count": 48,
     "metadata": {},
     "output_type": "execute_result"
    }
   ],
   "source": [
    "from sklearn.externals import joblib\n",
    "\n",
    "joblib.dump(gb,'res_joblib')"
   ]
  },
  {
   "cell_type": "code",
   "execution_count": 49,
   "metadata": {},
   "outputs": [
    {
     "data": {
      "text/plain": [
       "array([0.03197082, 0.02931786, 0.02626376, ..., 0.02883599, 0.02553196,\n",
       "       0.02858606])"
      ]
     },
     "execution_count": 49,
     "metadata": {},
     "output_type": "execute_result"
    }
   ],
   "source": [
    "model=joblib.load(\"res_joblib\")\n",
    "model.predict(final_test)"
   ]
  },
  {
   "cell_type": "code",
   "execution_count": null,
   "metadata": {},
   "outputs": [],
   "source": []
  }
 ],
 "metadata": {
  "kernelspec": {
   "display_name": "Python 3",
   "language": "python",
   "name": "python3"
  },
  "language_info": {
   "codemirror_mode": {
    "name": "ipython",
    "version": 3
   },
   "file_extension": ".py",
   "mimetype": "text/x-python",
   "name": "python",
   "nbconvert_exporter": "python",
   "pygments_lexer": "ipython3",
   "version": "3.7.4"
  }
 },
 "nbformat": 4,
 "nbformat_minor": 2
}
